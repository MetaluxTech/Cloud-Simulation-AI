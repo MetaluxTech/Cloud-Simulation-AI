{
 "cells": [
  {
   "cell_type": "code",
   "execution_count": 1,
   "id": "5b169ee5-9af7-43dd-ae0f-f7c7f7e10bab",
   "metadata": {},
   "outputs": [
    {
     "ename": "ModuleNotFoundError",
     "evalue": "No module named 'sklearn'",
     "output_type": "error",
     "traceback": [
      "\u001b[1;31m---------------------------------------------------------------------------\u001b[0m",
      "\u001b[1;31mModuleNotFoundError\u001b[0m                       Traceback (most recent call last)",
      "Cell \u001b[1;32mIn[1], line 6\u001b[0m\n\u001b[0;32m      3\u001b[0m \u001b[38;5;28;01mimport\u001b[39;00m \u001b[38;5;21;01mnumpy\u001b[39;00m \u001b[38;5;28;01mas\u001b[39;00m \u001b[38;5;21;01mnp\u001b[39;00m\n\u001b[0;32m      4\u001b[0m \u001b[38;5;28;01mimport\u001b[39;00m \u001b[38;5;21;01mmatplotlib\u001b[39;00m\u001b[38;5;21;01m.\u001b[39;00m\u001b[38;5;21;01mpyplot\u001b[39;00m \u001b[38;5;28;01mas\u001b[39;00m \u001b[38;5;21;01mplt\u001b[39;00m\n\u001b[1;32m----> 6\u001b[0m \u001b[38;5;28;01mfrom\u001b[39;00m \u001b[38;5;21;01msklearn\u001b[39;00m\u001b[38;5;21;01m.\u001b[39;00m\u001b[38;5;21;01mpreprocessing\u001b[39;00m \u001b[38;5;28;01mimport\u001b[39;00m StandardScaler,LabelEncoder\n\u001b[0;32m      7\u001b[0m \u001b[38;5;28;01mfrom\u001b[39;00m \u001b[38;5;21;01msklearn\u001b[39;00m\u001b[38;5;21;01m.\u001b[39;00m\u001b[38;5;21;01mpreprocessing\u001b[39;00m \u001b[38;5;28;01mimport\u001b[39;00m StandardScaler,LabelEncoder\n\u001b[0;32m      8\u001b[0m \u001b[38;5;28;01mfrom\u001b[39;00m \u001b[38;5;21;01msklearn\u001b[39;00m\u001b[38;5;21;01m.\u001b[39;00m\u001b[38;5;21;01mmodel_selection\u001b[39;00m \u001b[38;5;28;01mimport\u001b[39;00m train_test_split\n",
      "\u001b[1;31mModuleNotFoundError\u001b[0m: No module named 'sklearn'"
     ]
    }
   ],
   "source": [
    "import pandas as pd\n",
    "import seaborn as sns\n",
    "import numpy as np\n",
    "import matplotlib.pyplot as plt\n",
    "\n",
    "from sklearn.preprocessing import StandardScaler,LabelEncoder\n",
    "from sklearn.preprocessing import StandardScaler,LabelEncoder\n",
    "from sklearn.model_selection import train_test_split\n",
    "from sklearn.metrics import accuracy_score, classification_report, confusion_matrix\n",
    "\n",
    "from keras.models import Sequential\n",
    "from keras.layers import LSTM, Dense,Dropout\n",
    "from keras.utils import to_categorical\n",
    "from keras.optimizers import Adam\n",
    "from keras.callbacks import EarlyStopping\n",
    "import warnings\n",
    "warnings.filterwarnings(\"ignore\", category=DeprecationWarning, module=\"tensorflow\")\n",
    "warnings.resetwarnings()\n"
   ]
  },
  {
   "cell_type": "code",
   "execution_count": null,
   "id": "9b79ea76-1981-4712-9bae-1673399c9f72",
   "metadata": {},
   "outputs": [],
   "source": [
    "df = pd.read_csv('../dataset/dataset_2.csv') \n",
    "\n",
    "bool_columns = df.select_dtypes(include=bool).columns\n",
    "\n",
    "df = df.drop(columns=['StartTime','TaskID','DistanceFromDataCenter', 'DataCenterCpuCost', 'DataCenterRamCost',\n",
    "                      'DataCenterStorageCost', 'DataCenterBwCost', 'DataCenterTotalLoad',\n",
    "                      'NetworkDelay', 'CET', 'ObjectiveFunction'])\n",
    "# Convert boolean columns to integers (True -> 1, False -> 0)\n",
    "df[bool_columns] = df[bool_columns].astype(int)\n",
    "\n",
    "# Print the modified DataFrame\n",
    "\n",
    "X = df.drop('DataCenterID', axis=1)  # Features\n",
    "y = df['DataCenterID']-3  # Label\n",
    "X_train, X_test, y_train, y_test = train_test_split(X, y, test_size=0.2)\n",
    "unique_labels = np.unique(y_train.values)\n",
    "print(unique_labels)\n",
    "print(df.info())\n",
    "num_classes = len(unique_labels)\n",
    "# Example of feature engineering\n"
   ]
  },
  {
   "cell_type": "code",
   "execution_count": null,
   "id": "babb98eb-956e-4161-a656-47f583bb2dda",
   "metadata": {},
   "outputs": [],
   "source": [
    "# Pairplot to visualize relationships\n",
    "sns.pairplot(df, hue='DataCenterID')\n",
    "plt.show()\n",
    "\n",
    "# # Correlation heatmap\n",
    "# correlation_matrix = df.corr()\n",
    "# sns.heatmap(correlation_matrix, annot=True, cmap='coolwarm')\n",
    "# plt.show()\n"
   ]
  },
  {
   "cell_type": "code",
   "execution_count": null,
   "id": "fbd6c389-d52c-43bc-bcae-82279ca62002",
   "metadata": {},
   "outputs": [],
   "source": [
    "if (len(X_train.shape)<3):\n",
    "    X_train = X_train.values.reshape((X_train.shape[0], 1, X_train.shape[1]))\n",
    "    X_test = X_test.values.reshape((X_test.shape[0], 1, X_test.shape[1]))\n",
    "\n",
    "print(\" xtrain \", X_train.shape, \"\\n\", \"ytrain \", y_train.shape, \"\\n\", \"xtest  \", X_test.shape, \"\\n\", \"ytest \", y_test.shape, \"\\n\")\n",
    "\n",
    "\n"
   ]
  },
  {
   "cell_type": "code",
   "execution_count": null,
   "id": "28e8a54f-e3f1-4480-a5d2-49b029b67855",
   "metadata": {},
   "outputs": [],
   "source": [
    "def trainModel(hyperparameters):\n",
    "    # Build and train the model\n",
    "    model = Sequential()\n",
    "    model.add(LSTM(units=int(hyperparameters['units']), input_shape=(1, X_train.shape[2]), return_sequences=True))\n",
    "    model.add(Dropout(hyperparameters['dropout_rate']))\n",
    "    model.add(LSTM(units=int(hyperparameters['units']) // 2))\n",
    "    model.add(Dense(units=num_classes, activation='softmax'))\n",
    "\n",
    "    model.compile(optimizer=Adam(learning_rate=hyperparameters['learning_rate']),\n",
    "                  loss='sparse_categorical_crossentropy',\n",
    "                  metrics=['accuracy'])\n",
    "\n",
    "    early_stopping = EarlyStopping(monitor='accuracy', patience=100)\n",
    "    hist = model.fit(X_train, y_train,\n",
    "                        epochs=200,\n",
    "                        batch_size=int(hyperparameters['batch_size']),\n",
    "                        validation_data=(X_test, y_test),\n",
    "                        callbacks=[early_stopping])\n",
    "    return model,hist\n",
    "                      \n",
    "# GA_hyperparameters =   {'units': 37.854, 'dropout_rate': 0.179, 'learning_rate': 0.036004, 'batch_size': 75.13}\n",
    "# model,hist= trainModel(GA_hyperparameters)\n",
    "# ga_accuracy = max(hist.history[\"accuracy\"])\n",
    "\n",
    "SNAKE_hyperparameters = {'units': 128, 'dropout_rate': 0.2, 'learning_rate': 0.001, 'batch_size': 32}\n",
    "model,hist= trainModel(SNAKE_hyperparameters)\n",
    "snake_accuracy = max(hist.history[\"accuracy\"])\n",
    "\n",
    "\n",
    " \n"
   ]
  },
  {
   "cell_type": "code",
   "execution_count": null,
   "id": "d6a9b96c-13e3-4ea2-a912-8fd3c6469dea",
   "metadata": {},
   "outputs": [],
   "source": []
  },
  {
   "cell_type": "code",
   "execution_count": null,
   "id": "c07af766-34eb-4bc4-b9ab-1166d88f1cdc",
   "metadata": {},
   "outputs": [],
   "source": [
    "\n",
    "print(\"snake  Accuracy: \",int(snake_accuracy* 100) ,'%')\n",
    "print(\"GA Accuracy: \",int(ga_accuracy* 100) ,'%')\n",
    "\n",
    "\n",
    "y_pred = model.predict(X_test)\n",
    "y_pred_classes = np.argmax(y_pred, axis=1)\n",
    "\n",
    "# Create a confusion matrix\n",
    "cm = confusion_matrix(y_test, y_pred_classes)\n",
    "\n",
    "# Create a colorful confusion matrix using seaborn\n",
    "plt.figure(figsize=(8, 6))\n",
    "sns.heatmap(cm, annot=True, fmt='g', cmap='Blues', xticklabels=np.unique(y_test), yticklabels=np.unique(y_test))\n",
    "plt.title('Confusion Matrix')\n",
    "plt.xlabel('Predicted')\n",
    "plt.ylabel('Actual')\n",
    "plt.show()"
   ]
  },
  {
   "cell_type": "markdown",
   "id": "3092a6e5-70cf-4059-bac3-ea24a303f34d",
   "metadata": {},
   "source": [
    "# GA"
   ]
  },
  {
   "cell_type": "code",
   "execution_count": null,
   "id": "333079b5-a452-4b7d-96f8-4c0838e1bf14",
   "metadata": {
    "scrolled": true
   },
   "outputs": [],
   "source": [
    "from gaft import GAEngine\n",
    "from gaft.components import individual, Population,DecimalIndividual\n",
    "from gaft.operators import RouletteWheelSelection, UniformCrossover, FlipBitMutation\n",
    "\n",
    "# Define hyperparameter ranges\n",
    "hyperparameter_ranges = {\n",
    "    'units': (10,100),\n",
    "    'dropout_rate': (0.1, 1.0),\n",
    "    'learning_rate': (0.001, 0.1),\n",
    "    'batch_size': (10, 100)\n",
    "}\n",
    "\n",
    "indv_template = DecimalIndividual(ranges=list(hyperparameter_ranges.values()))\n",
    "\n",
    "# Create population\n",
    "population = Population(indv_template=indv_template, size=50).init()\n",
    "\n",
    "# Define Genetic Algorithm operators\n",
    "selection = RouletteWheelSelection()\n",
    "crossover = UniformCrossover(pc=0.8, pe=0.5)\n",
    "mutation = FlipBitMutation(pm=0.1)\n",
    "\n",
    "# Create Genetic Algorithm engine\n",
    "engine = GAEngine(population=population, selection=selection, crossover=crossover, mutation=mutation)\n",
    "\n",
    "@engine.fitness_register\n",
    "def fitness(indv):\n",
    "    # Use hyperparameters from individual\n",
    "    hyperparameters = dict(zip(hyperparameter_ranges.keys(), indv.solution))\n",
    "\n",
    "    # Train the model with the hyperparameters\n",
    "    _,hist = trainModel(hyperparameters)  # Call your trainModel function\n",
    "    accuracy = max(hist.history['accuracy']) # Extract validation accuracy\n",
    "    print(\"\\nParameters: \",hyperparameters,f\" accuracy: {accuracy}\")\n",
    "    print(\"\\n\\n\\n *********************** New Generation Training Start *******************************\\n \")\n",
    "    return accuracy\n",
    "\n",
    "# Run the Genetic Algorithm\n",
    "engine.run(ng=5)\n",
    "\n",
    "# Access the best individual\n",
    "best_individual = engine.best_individual()\n",
    "best_hyperparameters = dict(zip(hyperparameter_ranges.keys(), best_individual.solution))\n",
    "print(\"Best hyperparameters: \", best_hyperparameters)\n"
   ]
  },
  {
   "cell_type": "code",
   "execution_count": null,
   "id": "901bbda0-f3ad-46f3-af27-e73aff0ea8c1",
   "metadata": {},
   "outputs": [],
   "source": []
  }
 ],
 "metadata": {
  "kernelspec": {
   "display_name": "Python 3 (ipykernel)",
   "language": "python",
   "name": "python3"
  },
  "language_info": {
   "codemirror_mode": {
    "name": "ipython",
    "version": 3
   },
   "file_extension": ".py",
   "mimetype": "text/x-python",
   "name": "python",
   "nbconvert_exporter": "python",
   "pygments_lexer": "ipython3",
   "version": "3.12.1"
  }
 },
 "nbformat": 4,
 "nbformat_minor": 5
}
