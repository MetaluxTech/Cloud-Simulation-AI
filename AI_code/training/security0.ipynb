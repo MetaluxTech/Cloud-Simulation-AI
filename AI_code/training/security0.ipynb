{
 "cells": [
  {
   "cell_type": "code",
   "execution_count": 3,
   "metadata": {
    "id": "GPUz34AyZ1xT"
   },
   "outputs": [],
   "source": [
    "import pandas as pd\n",
    "import numpy as np\n",
    "import matplotlib.pyplot as plt\n",
    "from sklearn.preprocessing import LabelEncoder\n",
    "from sklearn.preprocessing import StandardScaler\n",
    "from sklearn.metrics import accuracy_score\n",
    "from tensorflow.keras.layers import Conv1D, MaxPooling1D, Flatten, Dense, Dropout, Activation\n",
    "from keras.models import Sequential, Model\n",
    "from sklearn.metrics import confusion_matrix\n",
    "from sklearn.metrics import classification_report\n",
    "from sklearn.model_selection import train_test_split,StratifiedKFold\n",
    "from sklearn.preprocessing import MinMaxScaler\n",
    "from keras.layers import Input, concatenate\n",
    "from sklearn.metrics import accuracy_score, confusion_matrix, classification_report\n",
    "import tensorflow as tf\n"
   ]
  },
  {
   "cell_type": "markdown",
   "metadata": {
    "id": "D5E7hzriCc12"
   },
   "source": [
    "#EDA"
   ]
  },
  {
   "cell_type": "code",
   "execution_count": null,
   "metadata": {
    "id": "SC46ycsoXBBg"
   },
   "outputs": [],
   "source": [
    "df_iot = pd.read_csv('TON_IoT.csv?dl=0')"
   ]
  },
  {
   "cell_type": "code",
   "execution_count": null,
   "metadata": {
    "colab": {
     "base_uri": "https://localhost:8080/"
    },
    "id": "DF4otrykXUBp",
    "outputId": "bebb3100-0368-48b9-a0a6-ec976f773421"
   },
   "outputs": [
    {
     "name": "stdout",
     "output_type": "stream",
     "text": [
      "['normal' 'scanning' 'dos' 'injection' 'ddos' 'password' 'xss'\n",
      " 'ransomware' 'backdoor' 'mitm']\n"
     ]
    }
   ],
   "source": [
    "unique_values = df_iot['type'].unique()\n",
    "print(unique_values)"
   ]
  },
  {
   "cell_type": "code",
   "execution_count": null,
   "metadata": {
    "colab": {
     "base_uri": "https://localhost:8080/"
    },
    "id": "Ivp9fijdgxCe",
    "outputId": "fd2cb2da-fec5-459f-8f42-4c88ca422423"
   },
   "outputs": [
    {
     "name": "stdout",
     "output_type": "stream",
     "text": [
      "<class 'pandas.core.frame.DataFrame'>\n",
      "RangeIndex: 461043 entries, 0 to 461042\n",
      "Data columns (total 45 columns):\n",
      " #   Column                  Non-Null Count   Dtype  \n",
      "---  ------                  --------------   -----  \n",
      " 0   ts                      461043 non-null  int64  \n",
      " 1   src_ip                  461043 non-null  object \n",
      " 2   src_port                461043 non-null  int64  \n",
      " 3   dst_ip                  461043 non-null  object \n",
      " 4   dst_port                461043 non-null  int64  \n",
      " 5   proto                   461043 non-null  object \n",
      " 6   service                 461043 non-null  object \n",
      " 7   duration                461043 non-null  float64\n",
      " 8   src_bytes               461043 non-null  int64  \n",
      " 9   dst_bytes               461043 non-null  int64  \n",
      " 10  conn_state              461043 non-null  object \n",
      " 11  missed_bytes            461043 non-null  int64  \n",
      " 12  src_pkts                461043 non-null  int64  \n",
      " 13  src_ip_bytes            461043 non-null  int64  \n",
      " 14  dst_pkts                461043 non-null  int64  \n",
      " 15  dst_ip_bytes            461043 non-null  int64  \n",
      " 16  dns_query               461043 non-null  object \n",
      " 17  dns_qclass              461043 non-null  int64  \n",
      " 18  dns_qtype               461043 non-null  int64  \n",
      " 19  dns_rcode               461043 non-null  int64  \n",
      " 20  dns_AA                  461043 non-null  object \n",
      " 21  dns_RD                  461043 non-null  object \n",
      " 22  dns_RA                  461043 non-null  object \n",
      " 23  dns_rejected            461043 non-null  object \n",
      " 24  ssl_version             461043 non-null  object \n",
      " 25  ssl_cipher              461043 non-null  object \n",
      " 26  ssl_resumed             461043 non-null  object \n",
      " 27  ssl_established         461043 non-null  object \n",
      " 28  ssl_subject             461043 non-null  object \n",
      " 29  ssl_issuer              461043 non-null  object \n",
      " 30  http_trans_depth        461043 non-null  object \n",
      " 31  http_method             461043 non-null  object \n",
      " 32  http_uri                461043 non-null  object \n",
      " 33  http_version            461043 non-null  object \n",
      " 34  http_request_body_len   461043 non-null  int64  \n",
      " 35  http_response_body_len  461043 non-null  int64  \n",
      " 36  http_status_code        461043 non-null  int64  \n",
      " 37  http_user_agent         461043 non-null  object \n",
      " 38  http_orig_mime_types    461043 non-null  object \n",
      " 39  http_resp_mime_types    461043 non-null  object \n",
      " 40  weird_name              461043 non-null  object \n",
      " 41  weird_addl              461043 non-null  object \n",
      " 42  weird_notice            461043 non-null  object \n",
      " 43  label                   461043 non-null  int64  \n",
      " 44  type                    461043 non-null  object \n",
      "dtypes: float64(1), int64(17), object(27)\n",
      "memory usage: 158.3+ MB\n"
     ]
    }
   ],
   "source": [
    "df_iot.info()"
   ]
  },
  {
   "cell_type": "markdown",
   "metadata": {
    "id": "rKJBWll0ju8x"
   },
   "source": [
    "# security"
   ]
  },
  {
   "cell_type": "markdown",
   "metadata": {
    "id": "iBGMAYrDkJQT"
   },
   "source": [
    "## encrypt Data"
   ]
  },
  {
   "cell_type": "code",
   "execution_count": null,
   "metadata": {
    "colab": {
     "base_uri": "https://localhost:8080/"
    },
    "id": "O_B_SBWsmFVt",
    "outputId": "1d6bf893-5f2b-4536-c593-074e31a1f0f6"
   },
   "outputs": [
    {
     "name": "stdout",
     "output_type": "stream",
     "text": [
      "Collecting pycryptodome\n",
      "  Downloading pycryptodome-3.19.0-cp35-abi3-manylinux_2_17_x86_64.manylinux2014_x86_64.whl (2.1 MB)\n",
      "\u001b[2K     \u001b[90m━━━━━━━━━━━━━━━━━━━━━━━━━━━━━━━━━━━━━━━━\u001b[0m \u001b[32m2.1/2.1 MB\u001b[0m \u001b[31m14.5 MB/s\u001b[0m eta \u001b[36m0:00:00\u001b[0m\n",
      "\u001b[?25hInstalling collected packages: pycryptodome\n",
      "Successfully installed pycryptodome-3.19.0\n"
     ]
    }
   ],
   "source": [
    "!pip install pycryptodome"
   ]
  },
  {
   "cell_type": "code",
   "execution_count": null,
   "metadata": {
    "colab": {
     "base_uri": "https://localhost:8080/",
     "height": 36
    },
    "id": "UoQDPDxOjyXn",
    "outputId": "dc0a98f0-53c3-4f2d-85e2-eb8c678f896c"
   },
   "outputs": [
    {
     "data": {
      "application/vnd.google.colaboratory.intrinsic+json": {
       "type": "string"
      },
      "text/plain": [
       "'y+tKwe6rfT1aK1dCenFGvFUPmlfrZ9D+y9x4gkSUyPs='"
      ]
     },
     "execution_count": 7,
     "metadata": {},
     "output_type": "execute_result"
    }
   ],
   "source": [
    "from Crypto.Cipher import AES\n",
    "from Crypto.Random import get_random_bytes\n",
    "from base64 import b64encode\n",
    "\n",
    "# Generate a random AES key\n",
    "aes_key = get_random_bytes(32)  # AES-256\n",
    "\n",
    "# For demonstration purposes, we'll encode the key in base64 so that it's readable\n",
    "base64_encoded_aes_key = b64encode(aes_key).decode('utf-8')\n",
    "\n",
    "base64_encoded_aes_key"
   ]
  },
  {
   "cell_type": "code",
   "execution_count": null,
   "metadata": {
    "colab": {
     "base_uri": "https://localhost:8080/",
     "height": 36
    },
    "id": "P6RttgWmnh5I",
    "outputId": "94631052-ae80-4fdb-8366-abcfd53cfbc6"
   },
   "outputs": [
    {
     "data": {
      "application/vnd.google.colaboratory.intrinsic+json": {
       "type": "string"
      },
      "text/plain": [
       "'encrypted_TON_IoT.csv'"
      ]
     },
     "execution_count": 8,
     "metadata": {},
     "output_type": "execute_result"
    }
   ],
   "source": [
    "from Crypto.Util.Padding import pad, unpad\n",
    "from Crypto.Random import get_random_bytes\n",
    "\n",
    "# Path for the encrypted and decrypted files\n",
    "encrypted_file_path = \"encrypted_TON_IoT.csv\"\n",
    "# decrypted_file_path = \"/mnt/data/decrypted_TON_IoT.csv\"\n",
    "\n",
    "def encrypt_file(input_file_path, output_file_path, key):\n",
    "    # Initialize AES cipher with CBC mode\n",
    "    iv = get_random_bytes(16)\n",
    "    cipher = AES.new(key, AES.MODE_CBC, iv)\n",
    "\n",
    "    # Read and encrypt the file\n",
    "    with open(input_file_path, 'rb') as file:\n",
    "        plaintext = file.read()\n",
    "        ciphertext = cipher.encrypt(pad(plaintext, AES.block_size))\n",
    "\n",
    "    # Write the IV followed by the ciphertext to the output file\n",
    "    with open(output_file_path, 'wb') as file:\n",
    "        file.write(iv + ciphertext)\n",
    "\n",
    "# Encrypt the provided CSV file\n",
    "encrypt_file(\"/content/TON_IoT.csv?dl=0\", encrypted_file_path, aes_key)\n",
    "\n",
    "encrypted_file_path\n"
   ]
  },
  {
   "cell_type": "markdown",
   "metadata": {
    "id": "94IrQdvaoRXr"
   },
   "source": [
    "## encrypt key"
   ]
  },
  {
   "cell_type": "code",
   "execution_count": null,
   "metadata": {
    "colab": {
     "base_uri": "https://localhost:8080/"
    },
    "id": "VnxIcWrpnx9S",
    "outputId": "a248cae0-2e1e-4441-ab27-869643897d12"
   },
   "outputs": [
    {
     "data": {
      "text/plain": [
       "('private_key.pem', 'public_key.pem')"
      ]
     },
     "execution_count": 9,
     "metadata": {},
     "output_type": "execute_result"
    }
   ],
   "source": [
    "from Crypto.PublicKey import RSA\n",
    "\n",
    "# Generate RSA key pair\n",
    "rsa_key = RSA.generate(2048)\n",
    "private_key = rsa_key.export_key()\n",
    "public_key = rsa_key.publickey().export_key()\n",
    "\n",
    "# For demonstration purposes, we'll save the keys to files\n",
    "private_key_path = \"private_key.pem\"\n",
    "public_key_path = \"public_key.pem\"\n",
    "\n",
    "with open(private_key_path, 'wb') as file:\n",
    "    file.write(private_key)\n",
    "\n",
    "with open(public_key_path, 'wb') as file:\n",
    "    file.write(public_key)\n",
    "\n",
    "private_key_path, public_key_path\n"
   ]
  },
  {
   "cell_type": "code",
   "execution_count": null,
   "metadata": {
    "colab": {
     "base_uri": "https://localhost:8080/",
     "height": 71
    },
    "id": "UWNu8vS3oa3J",
    "outputId": "60e075f6-c2d4-4dbe-a667-aeb4c98486a8"
   },
   "outputs": [
    {
     "data": {
      "application/vnd.google.colaboratory.intrinsic+json": {
       "type": "string"
      },
      "text/plain": [
       "'GyJWRGd/FJG9PVJbJAEtpgbOtKN5OmAlGhdkCe1h3OSjYJmij4/7B7RPTeypmOh5hfYCe4WWvdtiBV4jVkgyx8duiDR6/iQ3Y4SJgjCKQEqZUzJKNOKIBYccqJ3KEOO1atuedaS/wVAeL6YGqLVn0SmfIS2Sverb7FqcfL76YzBxNvNSgfDfUXwVrouWuPa1Jpv1sEXsCaN0DfJyun7I8nqlHhgbHLEfXlHhvRAGR52L5ZxoKiCTRndhBZDg263PbFtsKOvvrAoQfAQeZrUi2fGMw0+OiTpDTrHzQmzh5t8eYOYV5UGzrfq+O1vl8QeUhgl7apIqLCS4BlOKXw8CKA=='"
      ]
     },
     "execution_count": 10,
     "metadata": {},
     "output_type": "execute_result"
    }
   ],
   "source": [
    "from Crypto.Cipher import PKCS1_OAEP\n",
    "\n",
    "# Load the public key\n",
    "rsa_public_key = RSA.import_key(open(public_key_path).read())\n",
    "\n",
    "# Initialize RSA cipher with PKCS1 OAEP padding\n",
    "cipher_rsa = PKCS1_OAEP.new(rsa_public_key)\n",
    "\n",
    "# Encrypt the AES key\n",
    "encrypted_aes_key = cipher_rsa.encrypt(aes_key)\n",
    "\n",
    "# Encode the encrypted AES key in base64 for readability\n",
    "base64_encoded_encrypted_aes_key = b64encode(encrypted_aes_key).decode('utf-8')\n",
    "\n",
    "base64_encoded_encrypted_aes_key\n"
   ]
  },
  {
   "cell_type": "markdown",
   "metadata": {
    "id": "daerwFXyopGk"
   },
   "source": [
    "## decrypt key"
   ]
  },
  {
   "cell_type": "code",
   "execution_count": null,
   "metadata": {
    "colab": {
     "base_uri": "https://localhost:8080/",
     "height": 36
    },
    "id": "boSVIcOuooii",
    "outputId": "809b16da-f8ac-4635-ed4a-8b09fd0dab1d"
   },
   "outputs": [
    {
     "data": {
      "application/vnd.google.colaboratory.intrinsic+json": {
       "type": "string"
      },
      "text/plain": [
       "'y+tKwe6rfT1aK1dCenFGvFUPmlfrZ9D+y9x4gkSUyPs='"
      ]
     },
     "execution_count": 11,
     "metadata": {},
     "output_type": "execute_result"
    }
   ],
   "source": [
    "# Load the private key\n",
    "rsa_private_key = RSA.import_key(open(private_key_path).read())\n",
    "\n",
    "# Initialize RSA cipher with PKCS1 OAEP padding for decryption\n",
    "cipher_rsa_dec = PKCS1_OAEP.new(rsa_private_key)\n",
    "\n",
    "# Decrypt the encrypted AES key\n",
    "decrypted_aes_key = cipher_rsa_dec.decrypt(encrypted_aes_key)\n",
    "\n",
    "# Encode the decrypted AES key in base64 for readability\n",
    "base64_encoded_decrypted_aes_key = b64encode(decrypted_aes_key).decode('utf-8')\n",
    "\n",
    "base64_encoded_decrypted_aes_key\n"
   ]
  },
  {
   "cell_type": "markdown",
   "metadata": {
    "id": "iLaS8dDPqPR_"
   },
   "source": [
    "## decrypt data"
   ]
  },
  {
   "cell_type": "code",
   "execution_count": null,
   "metadata": {
    "colab": {
     "base_uri": "https://localhost:8080/",
     "height": 36
    },
    "id": "XO3TgVeDq4rx",
    "outputId": "15a0b0d2-c537-457f-81a3-c516de56525a"
   },
   "outputs": [
    {
     "data": {
      "application/vnd.google.colaboratory.intrinsic+json": {
       "type": "string"
      },
      "text/plain": [
       "'/content/decrypted_TON_IoT.csv'"
      ]
     },
     "execution_count": 17,
     "metadata": {},
     "output_type": "execute_result"
    }
   ],
   "source": [
    "from base64 import b64decode\n",
    "\n",
    "decrypted_aes_key\n",
    "\n",
    "decrypted_file_path = '/content/decrypted_TON_IoT.csv'\n",
    "\n",
    "def decrypt_file(input_file_path, output_file_path, key):\n",
    "    # Read the IV and ciphertext from the encrypted file\n",
    "    with open(input_file_path, 'rb') as file:\n",
    "        iv = file.read(16)\n",
    "        ciphertext = file.read()\n",
    "\n",
    "    # Initialize AES cipher with CBC mode\n",
    "    cipher = AES.new(key, AES.MODE_CBC, iv)\n",
    "\n",
    "    # Decrypt the ciphertext and unpad it\n",
    "    plaintext = unpad(cipher.decrypt(ciphertext), AES.block_size)\n",
    "\n",
    "    # Write the decrypted data to the output file\n",
    "    with open(output_file_path, 'wb') as file:\n",
    "        file.write(plaintext)\n",
    "\n",
    "# Decrypt the encrypted file using the decoded AES key\n",
    "decrypt_file(encrypted_file_path, decrypted_file_path, decoded_aes_key)\n",
    "\n",
    "decrypted_file_path\n"
   ]
  },
  {
   "cell_type": "markdown",
   "metadata": {
    "id": "eA6HlHdwpI3G"
   },
   "source": [
    "## security validation"
   ]
  },
  {
   "cell_type": "code",
   "execution_count": null,
   "metadata": {
    "colab": {
     "base_uri": "https://localhost:8080/"
    },
    "id": "CfefaYR7pLr1",
    "outputId": "a87dec25-13b6-42bf-a81b-02bc4486ac94"
   },
   "outputs": [
    {
     "name": "stdout",
     "output_type": "stream",
     "text": [
      "the decrypted AES key matches the original key\n"
     ]
    }
   ],
   "source": [
    "# Check if the decrypted AES key matches the original AES key\n",
    "key_match = decrypted_aes_key == aes_key\n",
    "print('the decrypted AES key matches the original key') if key_match else 'the decrypted AES key does not matche the original key'"
   ]
  },
  {
   "cell_type": "code",
   "execution_count": null,
   "metadata": {
    "colab": {
     "base_uri": "https://localhost:8080/"
    },
    "id": "vJPlQN4zpR6B",
    "outputId": "260f250b-3322-40da-de60-d416be13ab72"
   },
   "outputs": [
    {
     "data": {
      "text/plain": [
       "('shapes:', (461043, 45), (461043, 45))"
      ]
     },
     "execution_count": 21,
     "metadata": {},
     "output_type": "execute_result"
    }
   ],
   "source": [
    "import pandas as pd\n",
    "\n",
    "# Load the original and decrypted CSV files\n",
    "original_df = pd.read_csv(\"/content/TON_IoT.csv?dl=0\")\n",
    "decrypted_df = pd.read_csv(decrypted_file_path)\n",
    "\n",
    "# Get the shapes of both dataframes\n",
    "original_shape = original_df.shape\n",
    "decrypted_shape = decrypted_df.shape\n",
    "\n",
    "'shapes:', original_shape, decrypted_shape\n",
    "\n"
   ]
  },
  {
   "cell_type": "code",
   "execution_count": null,
   "metadata": {
    "colab": {
     "base_uri": "https://localhost:8080/"
    },
    "id": "NmRdB8qBvBDM",
    "outputId": "1edd15e1-ff86-4f42-e037-f903ec6852c0"
   },
   "outputs": [
    {
     "name": "stdout",
     "output_type": "stream",
     "text": [
      "matching rows:\n",
      "461043 / 461043\n",
      "100.0 % match\n"
     ]
    }
   ],
   "source": [
    "# Compare rows of both dataframes\n",
    "matching_rows = (original_df == decrypted_df).all(axis=1).sum()\n",
    "\n",
    "# Calculate the percentage of matching rows\n",
    "percentage_matching = (matching_rows / len(original_df)) * 100\n",
    "\n",
    "print('matching rows:')\n",
    "print(matching_rows , '/', len(original_df))\n",
    "print(percentage_matching, '% match')\n"
   ]
  },
  {
   "cell_type": "markdown",
   "metadata": {
    "id": "JgGrTNEzji5J"
   },
   "source": [
    "# processing"
   ]
  },
  {
   "cell_type": "code",
   "execution_count": null,
   "metadata": {
    "id": "c89N-IsEZu7N"
   },
   "outputs": [],
   "source": [
    "X= decrypted_df.drop(['label', 'type'], axis = 1)\n",
    "y= decrypted_df['label']"
   ]
  },
  {
   "cell_type": "code",
   "execution_count": null,
   "metadata": {
    "id": "qZaUS9ReZwgW"
   },
   "outputs": [],
   "source": [
    "le = LabelEncoder()\n",
    "for col in X.columns:\n",
    "    # Check if the column is of type object\n",
    "    if X[col].dtype == 'object':\n",
    "        # Create a LabelEncoder instance and fit-transform the column\n",
    "        X[col] = le.fit_transform(X[col].astype(str))"
   ]
  },
  {
   "cell_type": "code",
   "execution_count": null,
   "metadata": {
    "id": "y35F66N9Z-rv"
   },
   "outputs": [],
   "source": [
    "scaler = MinMaxScaler()\n",
    "scaledX = scaler.fit_transform(X)"
   ]
  },
  {
   "cell_type": "code",
   "execution_count": null,
   "metadata": {
    "colab": {
     "base_uri": "https://localhost:8080/"
    },
    "id": "MFp1mdCJaBDT",
    "outputId": "87b83a53-9b24-4c66-934d-0e25c2d3f745"
   },
   "outputs": [
    {
     "name": "stdout",
     "output_type": "stream",
     "text": [
      "Total NaN values in df: 0\n"
     ]
    }
   ],
   "source": [
    "num_nans = X.isna().sum().sum()\n",
    "print(f'Total NaN values in df: {num_nans}')"
   ]
  },
  {
   "cell_type": "code",
   "execution_count": null,
   "metadata": {
    "id": "GxJC40t0aMje"
   },
   "outputs": [],
   "source": [
    "X_train, X_test, y_train, y_test = train_test_split(scaledX, y, test_size=0.2, random_state=20)"
   ]
  },
  {
   "cell_type": "code",
   "execution_count": null,
   "metadata": {
    "id": "aMdV0tebc3MM"
   },
   "outputs": [],
   "source": [
    "def evaluate_classifier(y_test, y_pred):\n",
    "\n",
    "    # Calculate the confusion matrix\n",
    "    cm = confusion_matrix(y_test, y_pred)\n",
    "    print(\"Confusion Matrix:\")\n",
    "    print(cm)\n",
    "\n",
    "    # Plot the confusion matrix\n",
    "    plt.imshow(cm, interpolation='nearest', cmap=plt.cm.Blues)\n",
    "    plt.colorbar()\n",
    "    tick_marks = np.arange(len(set(y_test)))\n",
    "    plt.xticks(tick_marks, sorted(set(y_test)))\n",
    "    plt.yticks(tick_marks, sorted(set(y_test)))\n",
    "    plt.xlabel('Predicted Label')\n",
    "    plt.ylabel('True Label')\n",
    "\n",
    "    # Add the numbers to the confusion matrix plot\n",
    "    for i in range(cm.shape[0]):\n",
    "        for j in range(cm.shape[1]):\n",
    "            plt.text(j, i, cm[i, j], horizontalalignment='center', color='white' if cm[i, j] > cm.max() / 2. else 'black')\n",
    "\n",
    "    plt.show()\n",
    "\n",
    "    # Calculate the classification report\n",
    "    report = classification_report(y_test, y_pred)\n",
    "    print(\"Classification Report:\")\n",
    "    print(report)\n",
    "\n",
    "    # Calculate sensitivity and specificity\n",
    "    sensitivity = []\n",
    "    specificity = []\n",
    "    for i in range(cm.shape[0]):\n",
    "        tp = cm[i, i]\n",
    "        fn = cm[i, :].sum() - tp\n",
    "        fp = cm[:, i].sum() - tp\n",
    "        tn = cm.sum() - tp - fp - fn\n",
    "        sensitivity.append(tp / (tp + fn))\n",
    "        specificity.append(tn / (tn + fp))\n",
    "    print(\"Sensitivity:\", sensitivity)\n",
    "    print(\"Specificity:\", specificity)\n"
   ]
  },
  {
   "cell_type": "markdown",
   "metadata": {
    "id": "-8b_xpvVq3L4"
   },
   "source": [
    "# **TON-IOT**"
   ]
  },
  {
   "cell_type": "markdown",
   "metadata": {
    "id": "gamMQv-M3CYW"
   },
   "source": [
    "# Hyper parameter tuning"
   ]
  },
  {
   "cell_type": "markdown",
   "metadata": {
    "id": "hs6Kj2xUSu-K"
   },
   "source": [
    "## Snake optimization algorithm"
   ]
  },
  {
   "cell_type": "code",
   "execution_count": null,
   "metadata": {
    "colab": {
     "base_uri": "https://localhost:8080/"
    },
    "id": "K8LcjijI2xXL",
    "outputId": "9c22f292-7458-4e91-9676-23a12b698823"
   },
   "outputs": [
    {
     "name": "stderr",
     "output_type": "stream",
     "text": [
      "WARNING:absl:`lr` is deprecated in Keras optimizer, please use `learning_rate` or use the legacy optimizer, e.g.,tf.keras.optimizers.legacy.Adam.\n"
     ]
    },
    {
     "name": "stdout",
     "output_type": "stream",
     "text": [
      "Epoch 1/5\n",
      "5764/5764 [==============================] - 125s 19ms/step - loss: 0.2115 - accuracy: 0.9127 - val_loss: 0.1292 - val_accuracy: 0.9483\n",
      "Epoch 2/5\n",
      "5764/5764 [==============================] - 106s 18ms/step - loss: 0.1029 - accuracy: 0.9588 - val_loss: 0.0866 - val_accuracy: 0.9647\n",
      "Epoch 3/5\n",
      "5764/5764 [==============================] - 104s 18ms/step - loss: 0.0709 - accuracy: 0.9719 - val_loss: 0.0616 - val_accuracy: 0.9698\n",
      "Epoch 4/5\n",
      "5764/5764 [==============================] - 109s 19ms/step - loss: 0.0540 - accuracy: 0.9792 - val_loss: 0.0375 - val_accuracy: 0.9858\n",
      "Epoch 5/5\n",
      "5764/5764 [==============================] - 105s 18ms/step - loss: 0.0415 - accuracy: 0.9850 - val_loss: 0.0243 - val_accuracy: 0.9925\n"
     ]
    },
    {
     "name": "stderr",
     "output_type": "stream",
     "text": [
      "WARNING:absl:`lr` is deprecated in Keras optimizer, please use `learning_rate` or use the legacy optimizer, e.g.,tf.keras.optimizers.legacy.Adam.\n"
     ]
    },
    {
     "name": "stdout",
     "output_type": "stream",
     "text": [
      "Epoch 1/5\n",
      "4611/4611 [==============================] - 99s 19ms/step - loss: 0.2223 - accuracy: 0.9053 - val_loss: 0.1227 - val_accuracy: 0.9453\n",
      "Epoch 2/5\n",
      "4611/4611 [==============================] - 88s 19ms/step - loss: 0.1082 - accuracy: 0.9566 - val_loss: 0.0731 - val_accuracy: 0.9707\n",
      "Epoch 3/5\n",
      "4611/4611 [==============================] - 86s 19ms/step - loss: 0.0825 - accuracy: 0.9668 - val_loss: 0.0653 - val_accuracy: 0.9751\n",
      "Epoch 4/5\n",
      "4611/4611 [==============================] - 88s 19ms/step - loss: 0.0633 - accuracy: 0.9745 - val_loss: 0.0515 - val_accuracy: 0.9805\n",
      "Epoch 5/5\n",
      "4611/4611 [==============================] - 86s 19ms/step - loss: 0.0587 - accuracy: 0.9769 - val_loss: 0.0476 - val_accuracy: 0.9809\n"
     ]
    },
    {
     "name": "stderr",
     "output_type": "stream",
     "text": [
      "WARNING:absl:`lr` is deprecated in Keras optimizer, please use `learning_rate` or use the legacy optimizer, e.g.,tf.keras.optimizers.legacy.Adam.\n"
     ]
    },
    {
     "name": "stdout",
     "output_type": "stream",
     "text": [
      "Epoch 1/5\n",
      "5764/5764 [==============================] - 117s 18ms/step - loss: 0.2079 - accuracy: 0.9124 - val_loss: 0.1042 - val_accuracy: 0.9579\n",
      "Epoch 2/5\n",
      "5764/5764 [==============================] - 105s 18ms/step - loss: 0.0794 - accuracy: 0.9672 - val_loss: 0.0542 - val_accuracy: 0.9743\n",
      "Epoch 3/5\n",
      "5764/5764 [==============================] - 105s 18ms/step - loss: 0.0590 - accuracy: 0.9748 - val_loss: 0.0483 - val_accuracy: 0.9782\n",
      "Epoch 4/5\n",
      "5764/5764 [==============================] - 102s 18ms/step - loss: 0.0524 - accuracy: 0.9773 - val_loss: 0.0449 - val_accuracy: 0.9817\n",
      "Epoch 5/5\n",
      "5764/5764 [==============================] - 103s 18ms/step - loss: 0.0481 - accuracy: 0.9799 - val_loss: 0.0512 - val_accuracy: 0.9791\n"
     ]
    },
    {
     "name": "stderr",
     "output_type": "stream",
     "text": [
      "WARNING:absl:`lr` is deprecated in Keras optimizer, please use `learning_rate` or use the legacy optimizer, e.g.,tf.keras.optimizers.legacy.Adam.\n"
     ]
    },
    {
     "name": "stdout",
     "output_type": "stream",
     "text": [
      "Epoch 1/5\n",
      "11527/11527 [==============================] - 224s 18ms/step - loss: 0.1891 - accuracy: 0.9225 - val_loss: 0.0840 - val_accuracy: 0.9708\n",
      "Epoch 2/5\n",
      "11527/11527 [==============================] - 212s 18ms/step - loss: 0.0840 - accuracy: 0.9680 - val_loss: 0.0464 - val_accuracy: 0.9845\n",
      "Epoch 3/5\n",
      "11527/11527 [==============================] - 212s 18ms/step - loss: 0.0581 - accuracy: 0.9766 - val_loss: 0.0485 - val_accuracy: 0.9816\n",
      "Epoch 4/5\n",
      "11527/11527 [==============================] - 212s 18ms/step - loss: 0.0721 - accuracy: 0.9730 - val_loss: 0.0400 - val_accuracy: 0.9879\n",
      "Epoch 5/5\n",
      "11527/11527 [==============================] - 210s 18ms/step - loss: 0.0435 - accuracy: 0.9852 - val_loss: 0.0256 - val_accuracy: 0.9917\n"
     ]
    },
    {
     "name": "stderr",
     "output_type": "stream",
     "text": [
      "WARNING:absl:`lr` is deprecated in Keras optimizer, please use `learning_rate` or use the legacy optimizer, e.g.,tf.keras.optimizers.legacy.Adam.\n"
     ]
    },
    {
     "name": "stdout",
     "output_type": "stream",
     "text": [
      "Epoch 1/5\n",
      "11527/11527 [==============================] - 233s 19ms/step - loss: 0.1766 - accuracy: 0.9255 - val_loss: 0.0901 - val_accuracy: 0.9660\n",
      "Epoch 2/5\n",
      "11527/11527 [==============================] - 210s 18ms/step - loss: 0.0751 - accuracy: 0.9694 - val_loss: 0.0390 - val_accuracy: 0.9853\n",
      "Epoch 3/5\n",
      "11527/11527 [==============================] - 211s 18ms/step - loss: 0.0475 - accuracy: 0.9818 - val_loss: 0.0457 - val_accuracy: 0.9787\n",
      "Epoch 4/5\n",
      "11527/11527 [==============================] - 212s 18ms/step - loss: 0.0396 - accuracy: 0.9849 - val_loss: 0.0928 - val_accuracy: 0.9681\n",
      "Epoch 5/5\n",
      "11527/11527 [==============================] - 209s 18ms/step - loss: 0.0317 - accuracy: 0.9885 - val_loss: 0.0171 - val_accuracy: 0.9935\n"
     ]
    },
    {
     "name": "stderr",
     "output_type": "stream",
     "text": [
      "WARNING:absl:`lr` is deprecated in Keras optimizer, please use `learning_rate` or use the legacy optimizer, e.g.,tf.keras.optimizers.legacy.Adam.\n"
     ]
    },
    {
     "name": "stdout",
     "output_type": "stream",
     "text": [
      "Epoch 1/5\n",
      "7685/7685 [==============================] - 152s 18ms/step - loss: 0.1702 - accuracy: 0.9293 - val_loss: 0.0766 - val_accuracy: 0.9678\n",
      "Epoch 2/5\n",
      "7685/7685 [==============================] - 138s 18ms/step - loss: 0.0746 - accuracy: 0.9708 - val_loss: 0.0471 - val_accuracy: 0.9841\n",
      "Epoch 3/5\n",
      "7685/7685 [==============================] - 136s 18ms/step - loss: 0.0516 - accuracy: 0.9800 - val_loss: 0.0376 - val_accuracy: 0.9855\n",
      "Epoch 4/5\n",
      "7685/7685 [==============================] - 138s 18ms/step - loss: 0.0355 - accuracy: 0.9871 - val_loss: 0.0208 - val_accuracy: 0.9918\n",
      "Epoch 5/5\n",
      "7685/7685 [==============================] - 145s 19ms/step - loss: 0.0269 - accuracy: 0.9900 - val_loss: 0.0166 - val_accuracy: 0.9943\n"
     ]
    },
    {
     "name": "stderr",
     "output_type": "stream",
     "text": [
      "WARNING:absl:`lr` is deprecated in Keras optimizer, please use `learning_rate` or use the legacy optimizer, e.g.,tf.keras.optimizers.legacy.Adam.\n"
     ]
    },
    {
     "name": "stdout",
     "output_type": "stream",
     "text": [
      "Epoch 1/5\n",
      "5764/5764 [==============================] - 114s 18ms/step - loss: 0.2179 - accuracy: 0.9089 - val_loss: 0.0939 - val_accuracy: 0.9652\n",
      "Epoch 2/5\n",
      "5764/5764 [==============================] - 103s 18ms/step - loss: 0.0851 - accuracy: 0.9657 - val_loss: 0.0536 - val_accuracy: 0.9805\n",
      "Epoch 3/5\n",
      "5764/5764 [==============================] - 103s 18ms/step - loss: 0.0548 - accuracy: 0.9795 - val_loss: 0.0278 - val_accuracy: 0.9900\n",
      "Epoch 4/5\n",
      "5764/5764 [==============================] - 101s 18ms/step - loss: 0.0456 - accuracy: 0.9834 - val_loss: 0.0220 - val_accuracy: 0.9918\n",
      "Epoch 5/5\n",
      "5764/5764 [==============================] - 103s 18ms/step - loss: 0.0353 - accuracy: 0.9870 - val_loss: 0.0228 - val_accuracy: 0.9933\n"
     ]
    },
    {
     "name": "stderr",
     "output_type": "stream",
     "text": [
      "WARNING:absl:`lr` is deprecated in Keras optimizer, please use `learning_rate` or use the legacy optimizer, e.g.,tf.keras.optimizers.legacy.Adam.\n"
     ]
    },
    {
     "name": "stdout",
     "output_type": "stream",
     "text": [
      "Epoch 1/5\n",
      "11527/11527 [==============================] - 216s 18ms/step - loss: 0.2183 - accuracy: 0.9074 - val_loss: 0.1175 - val_accuracy: 0.9549\n",
      "Epoch 2/5\n",
      "11527/11527 [==============================] - 206s 18ms/step - loss: 0.1030 - accuracy: 0.9607 - val_loss: 0.0686 - val_accuracy: 0.9719\n",
      "Epoch 3/5\n",
      "11527/11527 [==============================] - 203s 18ms/step - loss: 0.0756 - accuracy: 0.9700 - val_loss: 0.0569 - val_accuracy: 0.9773\n",
      "Epoch 4/5\n",
      "11527/11527 [==============================] - 201s 17ms/step - loss: 0.0622 - accuracy: 0.9754 - val_loss: 0.0564 - val_accuracy: 0.9781\n",
      "Epoch 5/5\n",
      "11527/11527 [==============================] - 203s 18ms/step - loss: 0.0562 - accuracy: 0.9785 - val_loss: 0.0825 - val_accuracy: 0.9672\n"
     ]
    },
    {
     "name": "stderr",
     "output_type": "stream",
     "text": [
      "WARNING:absl:`lr` is deprecated in Keras optimizer, please use `learning_rate` or use the legacy optimizer, e.g.,tf.keras.optimizers.legacy.Adam.\n"
     ]
    },
    {
     "name": "stdout",
     "output_type": "stream",
     "text": [
      "Epoch 1/5\n",
      "5764/5764 [==============================] - 112s 18ms/step - loss: 0.2105 - accuracy: 0.9122 - val_loss: 0.1157 - val_accuracy: 0.9577\n",
      "Epoch 2/5\n",
      "5764/5764 [==============================] - 101s 18ms/step - loss: 0.1044 - accuracy: 0.9588 - val_loss: 0.0785 - val_accuracy: 0.9690\n",
      "Epoch 3/5\n",
      "5764/5764 [==============================] - 100s 17ms/step - loss: 0.0769 - accuracy: 0.9690 - val_loss: 0.0592 - val_accuracy: 0.9759\n",
      "Epoch 4/5\n",
      "5764/5764 [==============================] - 100s 17ms/step - loss: 0.0621 - accuracy: 0.9737 - val_loss: 0.0500 - val_accuracy: 0.9796\n",
      "Epoch 5/5\n",
      "5764/5764 [==============================] - 100s 17ms/step - loss: 0.0522 - accuracy: 0.9773 - val_loss: 0.0388 - val_accuracy: 0.9790\n"
     ]
    },
    {
     "name": "stderr",
     "output_type": "stream",
     "text": [
      "WARNING:absl:`lr` is deprecated in Keras optimizer, please use `learning_rate` or use the legacy optimizer, e.g.,tf.keras.optimizers.legacy.Adam.\n"
     ]
    },
    {
     "name": "stdout",
     "output_type": "stream",
     "text": [
      "Epoch 1/5\n",
      "11527/11527 [==============================] - 214s 18ms/step - loss: 0.2479 - accuracy: 0.8982 - val_loss: 0.1683 - val_accuracy: 0.9193\n",
      "Epoch 2/5\n",
      "11527/11527 [==============================] - 203s 18ms/step - loss: 0.1518 - accuracy: 0.9318 - val_loss: 0.1081 - val_accuracy: 0.9577\n",
      "Epoch 3/5\n",
      "11527/11527 [==============================] - 205s 18ms/step - loss: 0.1240 - accuracy: 0.9471 - val_loss: 0.0991 - val_accuracy: 0.9556\n",
      "Epoch 4/5\n",
      "11527/11527 [==============================] - 201s 17ms/step - loss: 0.1002 - accuracy: 0.9593 - val_loss: 0.1445 - val_accuracy: 0.9409\n",
      "Epoch 5/5\n",
      "11527/11527 [==============================] - 203s 18ms/step - loss: 0.0826 - accuracy: 0.9694 - val_loss: 0.0463 - val_accuracy: 0.9832\n",
      "Best Hyperparameters: {'lstm_unit': 144, 'dropout_rate': 0.1, 'learning_rate': 0.005, 'batch_size': 48}\n"
     ]
    }
   ],
   "source": [
    "import numpy as np\n",
    "from keras.layers import LSTM, Bidirectional, Dropout, Dense\n",
    "from keras.models import Sequential\n",
    "from keras.optimizers import Adam\n",
    "from keras.callbacks import EarlyStopping\n",
    "\n",
    "# Define the Search Space\n",
    "lstm_units = [32, 64, 128]\n",
    "dropout_rates = [0.1, 0.2, 0.3]\n",
    "learning_rates = [0.001, 0.005]\n",
    "batch_sizes = [32, 64]\n",
    "\n",
    "# Initial Random Selection from Search Space\n",
    "current_hyperparameters = {\n",
    "    \"lstm_unit\": np.random.choice(lstm_units),\n",
    "    \"dropout_rate\": np.random.choice(dropout_rates),\n",
    "    \"learning_rate\": np.random.choice(learning_rates),\n",
    "    \"batch_size\": np.random.choice(batch_sizes)\n",
    "}\n",
    "\n",
    "# Store the best hyperparameters and accuracy\n",
    "best_hyperparameters = None\n",
    "best_accuracy = 0\n",
    "\n",
    "# Function to train a model with given hyperparameters\n",
    "def train_model(hyperparameters):\n",
    "    model = Sequential()\n",
    "    model.add(Bidirectional(LSTM(hyperparameters[\"lstm_unit\"], activation='tanh', return_sequences=True), input_shape=(X_train.shape[1], 1)))\n",
    "    model.add(Dropout(hyperparameters[\"dropout_rate\"]))\n",
    "    model.add(Bidirectional(LSTM(int(hyperparameters[\"lstm_unit\"]/2), activation='tanh', return_sequences=True)))\n",
    "    model.add(Dropout(hyperparameters[\"dropout_rate\"]))\n",
    "    model.add(Bidirectional(LSTM(int(hyperparameters[\"lstm_unit\"]/4), activation='tanh')))\n",
    "    model.add(Dropout(hyperparameters[\"dropout_rate\"]))\n",
    "    model.add(Dense(1, activation='sigmoid'))\n",
    "\n",
    "    opt = Adam(lr=hyperparameters[\"learning_rate\"])\n",
    "    model.compile(loss='binary_crossentropy', optimizer=opt, metrics=['accuracy'])\n",
    "    early_stopping = EarlyStopping(monitor='val_loss', patience=3, restore_best_weights=True)\n",
    "    history = model.fit(X_train, y_train, epochs=5, batch_size=hyperparameters[\"batch_size\"], validation_data=(X_test, y_test), callbacks=[early_stopping])\n",
    "\n",
    "    return history.history[\"val_accuracy\"][-1]\n",
    "\n",
    "# SOA Loop\n",
    "for iteration in range(10):\n",
    "    accuracy = train_model(current_hyperparameters)\n",
    "\n",
    "    # Update best hyperparameters if better ones are found\n",
    "    if accuracy > best_accuracy:\n",
    "        best_accuracy = accuracy\n",
    "        best_hyperparameters = current_hyperparameters.copy()\n",
    "\n",
    "        # Greedy Exploitation: Refine search around the best hyperparameters\n",
    "        # Here, we're perturbing the hyperparameters slightly\n",
    "        current_hyperparameters = {\n",
    "            \"lstm_unit\": max(32, best_hyperparameters[\"lstm_unit\"] + np.random.choice([-16, 16])),\n",
    "            \"dropout_rate\": min(0.3, max(0.1, best_hyperparameters[\"dropout_rate\"] + np.random.choice([-0.1, 0.1]))),\n",
    "            \"learning_rate\": min(0.005, max(0.001, best_hyperparameters[\"learning_rate\"] * np.random.choice([0.5, 1.5]))),\n",
    "            \"batch_size\": max(32, best_hyperparameters[\"batch_size\"] + np.random.choice([-16, 16]))\n",
    "        }\n",
    "    else:\n",
    "        # Random Exploration\n",
    "        current_hyperparameters = {\n",
    "            \"lstm_unit\": np.random.choice(lstm_units),\n",
    "            \"dropout_rate\": np.random.choice(dropout_rates),\n",
    "            \"learning_rate\": np.random.choice(learning_rates),\n",
    "            \"batch_size\": np.random.choice(batch_sizes)\n",
    "        }\n",
    "\n",
    "print(\"Best Hyperparameters:\", best_hyperparameters)\n"
   ]
  },
  {
   "cell_type": "code",
   "execution_count": null,
   "metadata": {
    "colab": {
     "base_uri": "https://localhost:8080/"
    },
    "id": "IJuanRKU26xw",
    "outputId": "5722532e-2ef3-4dd7-e400-1096fff55c4b"
   },
   "outputs": [
    {
     "name": "stdout",
     "output_type": "stream",
     "text": [
      "best acc 0.9942739009857178\n"
     ]
    }
   ],
   "source": [
    "print('best acc', best_accuracy)"
   ]
  },
  {
   "cell_type": "markdown",
   "metadata": {
    "id": "Pqt1mgP5Sz8O"
   },
   "source": [
    "## training with best parameters"
   ]
  },
  {
   "cell_type": "code",
   "execution_count": null,
   "metadata": {
    "colab": {
     "base_uri": "https://localhost:8080/"
    },
    "id": "20YKvP8lSsJU",
    "outputId": "7557f91d-3ef1-4aa4-9743-051acfb4fc95"
   },
   "outputs": [
    {
     "name": "stderr",
     "output_type": "stream",
     "text": [
      "WARNING:absl:`lr` is deprecated in Keras optimizer, please use `learning_rate` or use the legacy optimizer, e.g.,tf.keras.optimizers.legacy.Adam.\n"
     ]
    },
    {
     "name": "stdout",
     "output_type": "stream",
     "text": [
      "Epoch 1/5\n",
      "4611/4611 [==============================] - 98s 19ms/step - loss: 0.1836 - accuracy: 0.9243 - val_loss: 0.0859 - val_accuracy: 0.9632\n",
      "Epoch 2/5\n",
      "4611/4611 [==============================] - 83s 18ms/step - loss: 0.0729 - accuracy: 0.9708 - val_loss: 0.0504 - val_accuracy: 0.9793\n",
      "Epoch 3/5\n",
      "4611/4611 [==============================] - 84s 18ms/step - loss: 0.0572 - accuracy: 0.9777 - val_loss: 0.0399 - val_accuracy: 0.9861\n",
      "Epoch 4/5\n",
      "4611/4611 [==============================] - 83s 18ms/step - loss: 0.0473 - accuracy: 0.9824 - val_loss: 0.0438 - val_accuracy: 0.9839\n",
      "Epoch 5/5\n",
      "4611/4611 [==============================] - 83s 18ms/step - loss: 0.0346 - accuracy: 0.9879 - val_loss: 0.0453 - val_accuracy: 0.9842\n"
     ]
    }
   ],
   "source": [
    "from keras.layers import LSTM, Bidirectional, Dropout, Dense\n",
    "from keras.models import Sequential\n",
    "from keras.optimizers import Adam\n",
    "from keras.callbacks import EarlyStopping\n",
    "\n",
    "model = Sequential()\n",
    "model.add(Bidirectional(LSTM(144, activation='tanh', return_sequences=True), input_shape=(X_train.shape[1], 1)))\n",
    "model.add(Dropout(0.1))\n",
    "model.add(Bidirectional(LSTM(int(144/2), activation='tanh', return_sequences=True)))\n",
    "model.add(Dropout(0.1))\n",
    "model.add(Bidirectional(LSTM(int(144/4), activation='tanh')))\n",
    "model.add(Dropout(0.1))\n",
    "model.add(Dense(1, activation='sigmoid'))\n",
    "\n",
    "opt = Adam(lr=0.0015)\n",
    "model.compile(loss='binary_crossentropy', optimizer=opt, metrics=['accuracy'])\n",
    "\n",
    "# Define early stopping callback\n",
    "early_stopping = EarlyStopping(monitor='val_loss', patience=3, restore_best_weights=True)\n",
    "\n",
    "history = model.fit(X_train, y_train, epochs=5, batch_size=80, validation_data=(X_test, y_test), callbacks=[early_stopping])\n"
   ]
  },
  {
   "cell_type": "code",
   "execution_count": null,
   "metadata": {
    "colab": {
     "base_uri": "https://localhost:8080/"
    },
    "id": "tkwWWJ49otIo",
    "outputId": "09aaba60-ce9f-470f-870c-106058630646"
   },
   "outputs": [
    {
     "name": "stdout",
     "output_type": "stream",
     "text": [
      "2882/2882 [==============================] - 21s 7ms/step\n"
     ]
    }
   ],
   "source": [
    "from sklearn.metrics import confusion_matrix\n",
    "\n",
    "y_pred = model.predict(X_test)\n",
    "y_pred = (y_pred > 0.5)  # Convert predicted probabilities to binary labels"
   ]
  },
  {
   "cell_type": "code",
   "execution_count": null,
   "metadata": {
    "colab": {
     "base_uri": "https://localhost:8080/",
     "height": 709
    },
    "id": "T9MOK_NFqkmK",
    "outputId": "d77fe943-8714-4c27-c90d-8b6cb458d22b"
   },
   "outputs": [
    {
     "name": "stdout",
     "output_type": "stream",
     "text": [
      "Confusion Matrix:\n",
      "[[59388   532]\n",
      " [  923 31366]]\n"
     ]
    },
    {
     "data": {
      "image/png": "[encoded data removed]",
      "text/plain": [
       "<Figure size 640x480 with 2 Axes>"
      ]
     },
     "metadata": {},
     "output_type": "display_data"
    },
    {
     "name": "stdout",
     "output_type": "stream",
     "text": [
      "Classification Report:\n",
      "              precision    recall  f1-score   support\n",
      "\n",
      "           0       0.98      0.99      0.99     59920\n",
      "           1       0.98      0.97      0.98     32289\n",
      "\n",
      "    accuracy                           0.98     92209\n",
      "   macro avg       0.98      0.98      0.98     92209\n",
      "weighted avg       0.98      0.98      0.98     92209\n",
      "\n",
      "Sensitivity: [0.9911214953271028, 0.9714144135773793]\n",
      "Specificity: [0.9714144135773793, 0.9911214953271028]\n"
     ]
    }
   ],
   "source": [
    "evaluate_classifier(y_test, y_pred)"
   ]
  }
 ],
 "metadata": {
  "accelerator": "GPU",
  "colab": {
   "gpuType": "T4",
   "provenance": [],
   "toc_visible": true
  },
  "kernelspec": {
   "display_name": ".cloudsim",
   "language": "python",
   "name": ".cloudsim"
  },
  "language_info": {
   "codemirror_mode": {
    "name": "ipython",
    "version": 3
   },
   "file_extension": ".py",
   "mimetype": "text/x-python",
   "name": "python",
   "nbconvert_exporter": "python",
   "pygments_lexer": "ipython3",
   "version": "3.10.0"
  }
 },
 "nbformat": 4,
 "nbformat_minor": 4
}
