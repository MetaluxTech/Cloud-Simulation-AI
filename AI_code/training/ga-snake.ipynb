{
 "cells": [
  {
   "cell_type": "markdown",
   "metadata": {
    "id": "rP1NSgaj5bJL"
   },
   "source": [
    "#Imports"
   ]
  },
  {
   "cell_type": "code",
   "execution_count": 1,
   "metadata": {
    "id": "GPUz34AyZ1xT"
   },
   "outputs": [
    {
     "name": "stdout",
     "output_type": "stream",
     "text": [
      "WARNING:tensorflow:From C:\\Users\\mohsal\\Desktop\\app\\metalux\\cloudsim\\ga_lstm\\AI_code\\.venv10\\lib\\site-packages\\keras\\src\\losses.py:2976: The name tf.losses.sparse_softmax_cross_entropy is deprecated. Please use tf.compat.v1.losses.sparse_softmax_cross_entropy instead.\n",
      "\n"
     ]
    }
   ],
   "source": [
    "import pandas as pd\n",
    "import seaborn as sns\n",
    "import numpy as np\n",
    "import matplotlib.pyplot as plt\n",
    "\n",
    "from sklearn.preprocessing import StandardScaler,LabelEncoder\n",
    "from sklearn.preprocessing import StandardScaler,LabelEncoder\n",
    "from sklearn.model_selection import train_test_split\n",
    "from sklearn.metrics import accuracy_score, classification_report, confusion_matrix\n",
    "\n",
    "from keras.models import Sequential\n",
    "from keras.layers import LSTM, Dense,Dropout\n",
    "from keras.utils import to_categorical\n",
    "from keras.optimizers import Adam\n",
    "from keras.callbacks import EarlyStopping\n",
    "import warnings\n",
    "warnings.filterwarnings(\"ignore\", category=DeprecationWarning, module=\"tensorflow\")\n",
    "warnings.resetwarnings()"
   ]
  },
  {
   "cell_type": "markdown",
   "metadata": {
    "id": "D5E7hzriCc12"
   },
   "source": [
    "#EDA"
   ]
  },
  {
   "cell_type": "code",
   "execution_count": null,
   "metadata": {
    "id": "SC46ycsoXBBg"
   },
   "outputs": [],
   "source": [
    "df_iot = pd.read_csv('TON_IoT.csv?dl=0')"
   ]
  },
  {
   "cell_type": "code",
   "execution_count": null,
   "metadata": {
    "colab": {
     "base_uri": "https://localhost:8080/"
    },
    "id": "DF4otrykXUBp",
    "outputId": "ff4f19c5-a2f3-4764-9672-16d4349b47d8"
   },
   "outputs": [
    {
     "name": "stdout",
     "output_type": "stream",
     "text": [
      "['normal' 'scanning' 'dos' 'injection' 'ddos' 'password' 'xss'\n",
      " 'ransomware' 'backdoor' 'mitm']\n"
     ]
    }
   ],
   "source": [
    "unique_values = df_iot['type'].unique()\n",
    "print(unique_values)"
   ]
  },
  {
   "cell_type": "code",
   "execution_count": null,
   "metadata": {
    "colab": {
     "base_uri": "https://localhost:8080/"
    },
    "id": "Ivp9fijdgxCe",
    "outputId": "b78d2cfe-50a8-4212-9bcc-26fdbb742253"
   },
   "outputs": [
    {
     "name": "stdout",
     "output_type": "stream",
     "text": [
      "<class 'pandas.core.frame.DataFrame'>\n",
      "RangeIndex: 461043 entries, 0 to 461042\n",
      "Data columns (total 45 columns):\n",
      " #   Column                  Non-Null Count   Dtype  \n",
      "---  ------                  --------------   -----  \n",
      " 0   ts                      461043 non-null  int64  \n",
      " 1   src_ip                  461043 non-null  object \n",
      " 2   src_port                461043 non-null  int64  \n",
      " 3   dst_ip                  461043 non-null  object \n",
      " 4   dst_port                461043 non-null  int64  \n",
      " 5   proto                   461043 non-null  object \n",
      " 6   service                 461043 non-null  object \n",
      " 7   duration                461043 non-null  float64\n",
      " 8   src_bytes               461043 non-null  int64  \n",
      " 9   dst_bytes               461043 non-null  int64  \n",
      " 10  conn_state              461043 non-null  object \n",
      " 11  missed_bytes            461043 non-null  int64  \n",
      " 12  src_pkts                461043 non-null  int64  \n",
      " 13  src_ip_bytes            461043 non-null  int64  \n",
      " 14  dst_pkts                461043 non-null  int64  \n",
      " 15  dst_ip_bytes            461043 non-null  int64  \n",
      " 16  dns_query               461043 non-null  object \n",
      " 17  dns_qclass              461043 non-null  int64  \n",
      " 18  dns_qtype               461043 non-null  int64  \n",
      " 19  dns_rcode               461043 non-null  int64  \n",
      " 20  dns_AA                  461043 non-null  object \n",
      " 21  dns_RD                  461043 non-null  object \n",
      " 22  dns_RA                  461043 non-null  object \n",
      " 23  dns_rejected            461043 non-null  object \n",
      " 24  ssl_version             461043 non-null  object \n",
      " 25  ssl_cipher              461043 non-null  object \n",
      " 26  ssl_resumed             461043 non-null  object \n",
      " 27  ssl_established         461043 non-null  object \n",
      " 28  ssl_subject             461043 non-null  object \n",
      " 29  ssl_issuer              461043 non-null  object \n",
      " 30  http_trans_depth        461043 non-null  object \n",
      " 31  http_method             461043 non-null  object \n",
      " 32  http_uri                461043 non-null  object \n",
      " 33  http_version            461043 non-null  object \n",
      " 34  http_request_body_len   461043 non-null  int64  \n",
      " 35  http_response_body_len  461043 non-null  int64  \n",
      " 36  http_status_code        461043 non-null  int64  \n",
      " 37  http_user_agent         461043 non-null  object \n",
      " 38  http_orig_mime_types    461043 non-null  object \n",
      " 39  http_resp_mime_types    461043 non-null  object \n",
      " 40  weird_name              461043 non-null  object \n",
      " 41  weird_addl              461043 non-null  object \n",
      " 42  weird_notice            461043 non-null  object \n",
      " 43  label                   461043 non-null  int64  \n",
      " 44  type                    461043 non-null  object \n",
      "dtypes: float64(1), int64(17), object(27)\n",
      "memory usage: 158.3+ MB\n"
     ]
    }
   ],
   "source": [
    "df_iot.info()"
   ]
  },
  {
   "cell_type": "code",
   "execution_count": null,
   "metadata": {
    "id": "c89N-IsEZu7N"
   },
   "outputs": [],
   "source": [
    "X= df_iot.drop(['label', 'type'], axis = 1)\n",
    "y= df_iot['label']"
   ]
  },
  {
   "cell_type": "code",
   "execution_count": null,
   "metadata": {
    "id": "qZaUS9ReZwgW"
   },
   "outputs": [],
   "source": [
    "le = LabelEncoder()\n",
    "for col in X.columns:\n",
    "    # Check if the column is of type object\n",
    "    if X[col].dtype == 'object':\n",
    "        # Create a LabelEncoder instance and fit-transform the column\n",
    "        X[col] = le.fit_transform(X[col].astype(str))"
   ]
  },
  {
   "cell_type": "code",
   "execution_count": null,
   "metadata": {
    "id": "y35F66N9Z-rv"
   },
   "outputs": [],
   "source": [
    "scaler = MinMaxScaler()\n",
    "scaledX = scaler.fit_transform(X)"
   ]
  },
  {
   "cell_type": "code",
   "execution_count": null,
   "metadata": {
    "colab": {
     "base_uri": "https://localhost:8080/"
    },
    "id": "MFp1mdCJaBDT",
    "outputId": "5d019f6a-6605-415b-a56a-a9192359eb21"
   },
   "outputs": [
    {
     "name": "stdout",
     "output_type": "stream",
     "text": [
      "Total NaN values in df: 0\n"
     ]
    }
   ],
   "source": [
    "num_nans = X.isna().sum().sum()\n",
    "print(f'Total NaN values in df: {num_nans}')"
   ]
  },
  {
   "cell_type": "code",
   "execution_count": null,
   "metadata": {
    "id": "GxJC40t0aMje"
   },
   "outputs": [],
   "source": [
    "X_train, X_test, y_train, y_test = train_test_split(scaledX, y, test_size=0.2, random_state=20)"
   ]
  },
  {
   "cell_type": "code",
   "execution_count": null,
   "metadata": {
    "id": "aMdV0tebc3MM"
   },
   "outputs": [],
   "source": [
    "def evaluate_classifier(y_test, y_pred):\n",
    "\n",
    "    # Calculate the confusion matrix\n",
    "    cm = confusion_matrix(y_test, y_pred)\n",
    "    print(\"Confusion Matrix:\")\n",
    "    print(cm)\n",
    "\n",
    "    # Plot the confusion matrix\n",
    "    plt.imshow(cm, interpolation='nearest', cmap=plt.cm.Blues)\n",
    "    plt.colorbar()\n",
    "    tick_marks = np.arange(len(set(y_test)))\n",
    "    plt.xticks(tick_marks, sorted(set(y_test)))\n",
    "    plt.yticks(tick_marks, sorted(set(y_test)))\n",
    "    plt.xlabel('Predicted Label')\n",
    "    plt.ylabel('True Label')\n",
    "\n",
    "    # Add the numbers to the confusion matrix plot\n",
    "    for i in range(cm.shape[0]):\n",
    "        for j in range(cm.shape[1]):\n",
    "            plt.text(j, i, cm[i, j], horizontalalignment='center', color='white' if cm[i, j] > cm.max() / 2. else 'black')\n",
    "\n",
    "    plt.show()\n",
    "\n",
    "    # Calculate the classification report\n",
    "    report = classification_report(y_test, y_pred)\n",
    "    print(\"Classification Report:\")\n",
    "    print(report)\n",
    "\n",
    "    # Calculate sensitivity and specificity\n",
    "    sensitivity = []\n",
    "    specificity = []\n",
    "    for i in range(cm.shape[0]):\n",
    "        tp = cm[i, i]\n",
    "        fn = cm[i, :].sum() - tp\n",
    "        fp = cm[:, i].sum() - tp\n",
    "        tn = cm.sum() - tp - fp - fn\n",
    "        sensitivity.append(tp / (tp + fn))\n",
    "        specificity.append(tn / (tn + fp))\n",
    "    print(\"Sensitivity:\", sensitivity)\n",
    "    print(\"Specificity:\", specificity)\n"
   ]
  },
  {
   "cell_type": "markdown",
   "metadata": {
    "id": "-8b_xpvVq3L4"
   },
   "source": [
    "# **TON-IOT**"
   ]
  },
  {
   "cell_type": "markdown",
   "metadata": {
    "id": "gamMQv-M3CYW"
   },
   "source": [
    "# Hyper parameter tuning"
   ]
  },
  {
   "cell_type": "markdown",
   "metadata": {
    "id": "hs6Kj2xUSu-K"
   },
   "source": [
    "## Snake optimization algorithm"
   ]
  },
  {
   "cell_type": "code",
   "execution_count": null,
   "metadata": {
    "colab": {
     "base_uri": "https://localhost:8080/"
    },
    "id": "K8LcjijI2xXL",
    "outputId": "ad2e3289-3db1-48e9-97c3-e131cda375bf"
   },
   "outputs": [
    {
     "name": "stderr",
     "output_type": "stream",
     "text": [
      "/usr/local/lib/python3.10/dist-packages/keras/optimizers/legacy/adam.py:117: UserWarning: The `lr` argument is deprecated, use `learning_rate` instead.\n",
      "  super().__init__(name, **kwargs)\n"
     ]
    },
    {
     "name": "stdout",
     "output_type": "stream",
     "text": [
      "Epoch 1/5\n",
      "5764/5764 [==============================] - 117s 18ms/step - loss: 0.1946 - accuracy: 0.9190 - val_loss: 0.1004 - val_accuracy: 0.9617\n",
      "Epoch 2/5\n",
      "5764/5764 [==============================] - 100s 17ms/step - loss: 0.0855 - accuracy: 0.9676 - val_loss: 0.0615 - val_accuracy: 0.9743\n",
      "Epoch 3/5\n",
      "5764/5764 [==============================] - 100s 17ms/step - loss: 0.0512 - accuracy: 0.9818 - val_loss: 0.0315 - val_accuracy: 0.9898\n",
      "Epoch 4/5\n",
      "5764/5764 [==============================] - 98s 17ms/step - loss: 0.0350 - accuracy: 0.9881 - val_loss: 0.0231 - val_accuracy: 0.9914\n",
      "Epoch 5/5\n",
      "5764/5764 [==============================] - 99s 17ms/step - loss: 0.0271 - accuracy: 0.9905 - val_loss: 0.0178 - val_accuracy: 0.9936\n",
      "Epoch 1/5\n",
      "4611/4611 [==============================] - 95s 19ms/step - loss: 0.1734 - accuracy: 0.9270 - val_loss: 0.0815 - val_accuracy: 0.9670\n",
      "Epoch 2/5\n",
      "4611/4611 [==============================] - 88s 19ms/step - loss: 0.0669 - accuracy: 0.9734 - val_loss: 0.0573 - val_accuracy: 0.9760\n",
      "Epoch 3/5\n",
      "4611/4611 [==============================] - 85s 19ms/step - loss: 0.0493 - accuracy: 0.9816 - val_loss: 0.0236 - val_accuracy: 0.9917\n",
      "Epoch 4/5\n",
      "4611/4611 [==============================] - 86s 19ms/step - loss: 0.0372 - accuracy: 0.9860 - val_loss: 0.0223 - val_accuracy: 0.9924\n",
      "Epoch 5/5\n",
      "4611/4611 [==============================] - 87s 19ms/step - loss: 0.0330 - accuracy: 0.9882 - val_loss: 0.0190 - val_accuracy: 0.9947\n",
      "Epoch 1/5\n",
      "3843/3843 [==============================] - 88s 21ms/step - loss: 0.2158 - accuracy: 0.9077 - val_loss: 0.2076 - val_accuracy: 0.9047\n",
      "Epoch 2/5\n",
      "3843/3843 [==============================] - 76s 20ms/step - loss: 0.1143 - accuracy: 0.9552 - val_loss: 0.0588 - val_accuracy: 0.9768\n",
      "Epoch 3/5\n",
      "3843/3843 [==============================] - 76s 20ms/step - loss: 0.0592 - accuracy: 0.9758 - val_loss: 0.0677 - val_accuracy: 0.9769\n",
      "Epoch 4/5\n",
      "3843/3843 [==============================] - 88s 23ms/step - loss: 0.0542 - accuracy: 0.9778 - val_loss: 0.0436 - val_accuracy: 0.9854\n",
      "Epoch 5/5\n",
      "3843/3843 [==============================] - 81s 21ms/step - loss: 0.0457 - accuracy: 0.9831 - val_loss: 0.0346 - val_accuracy: 0.9884\n",
      "Epoch 1/5\n",
      "11527/11527 [==============================] - 218s 18ms/step - loss: 0.2292 - accuracy: 0.9070 - val_loss: 0.1409 - val_accuracy: 0.9414\n",
      "Epoch 2/5\n",
      "11527/11527 [==============================] - 200s 17ms/step - loss: 0.1160 - accuracy: 0.9544 - val_loss: 0.0833 - val_accuracy: 0.9648\n",
      "Epoch 3/5\n",
      "11527/11527 [==============================] - 199s 17ms/step - loss: 0.0819 - accuracy: 0.9673 - val_loss: 0.0599 - val_accuracy: 0.9745\n",
      "Epoch 4/5\n",
      "11527/11527 [==============================] - 201s 17ms/step - loss: 0.0672 - accuracy: 0.9736 - val_loss: 0.0536 - val_accuracy: 0.9803\n",
      "Epoch 5/5\n",
      "11527/11527 [==============================] - 200s 17ms/step - loss: 0.0553 - accuracy: 0.9787 - val_loss: 0.0382 - val_accuracy: 0.9856\n",
      "Epoch 1/5\n",
      "11527/11527 [==============================] - 209s 17ms/step - loss: 0.1808 - accuracy: 0.9225 - val_loss: 0.0820 - val_accuracy: 0.9686\n",
      "Epoch 2/5\n",
      "11527/11527 [==============================] - 194s 17ms/step - loss: 0.0925 - accuracy: 0.9652 - val_loss: 0.1505 - val_accuracy: 0.9453\n",
      "Epoch 3/5\n",
      "11527/11527 [==============================] - 194s 17ms/step - loss: 0.1037 - accuracy: 0.9586 - val_loss: 0.0761 - val_accuracy: 0.9728\n",
      "Epoch 4/5\n",
      "11527/11527 [==============================] - 194s 17ms/step - loss: 0.0887 - accuracy: 0.9659 - val_loss: 0.0614 - val_accuracy: 0.9745\n",
      "Epoch 5/5\n",
      "11527/11527 [==============================] - 192s 17ms/step - loss: 0.1066 - accuracy: 0.9554 - val_loss: 0.1277 - val_accuracy: 0.9493\n",
      "Epoch 1/5\n",
      "11527/11527 [==============================] - 212s 18ms/step - loss: 0.2543 - accuracy: 0.8955 - val_loss: 0.1723 - val_accuracy: 0.9247\n",
      "Epoch 2/5\n",
      "11527/11527 [==============================] - 198s 17ms/step - loss: 0.1409 - accuracy: 0.9432 - val_loss: 0.0935 - val_accuracy: 0.9641\n",
      "Epoch 3/5\n",
      "11527/11527 [==============================] - 197s 17ms/step - loss: 0.0950 - accuracy: 0.9635 - val_loss: 0.0775 - val_accuracy: 0.9704\n",
      "Epoch 4/5\n",
      "11527/11527 [==============================] - 196s 17ms/step - loss: 0.0762 - accuracy: 0.9703 - val_loss: 0.0457 - val_accuracy: 0.9796\n",
      "Epoch 5/5\n",
      "11527/11527 [==============================] - 199s 17ms/step - loss: 0.0588 - accuracy: 0.9777 - val_loss: 0.0361 - val_accuracy: 0.9871\n",
      "Epoch 1/5\n",
      "11527/11527 [==============================] - 209s 17ms/step - loss: 0.1963 - accuracy: 0.9193 - val_loss: 0.1025 - val_accuracy: 0.9627\n",
      "Epoch 2/5\n",
      "11527/11527 [==============================] - 197s 17ms/step - loss: 0.0838 - accuracy: 0.9683 - val_loss: 0.0449 - val_accuracy: 0.9863\n",
      "Epoch 3/5\n",
      "11527/11527 [==============================] - 198s 17ms/step - loss: 0.0585 - accuracy: 0.9783 - val_loss: 0.0475 - val_accuracy: 0.9825\n",
      "Epoch 4/5\n",
      "11527/11527 [==============================] - 197s 17ms/step - loss: 0.0488 - accuracy: 0.9817 - val_loss: 0.0486 - val_accuracy: 0.9857\n",
      "Epoch 5/5\n",
      "11527/11527 [==============================] - 200s 17ms/step - loss: 0.0380 - accuracy: 0.9861 - val_loss: 0.0446 - val_accuracy: 0.9859\n",
      "Epoch 1/5\n",
      "5764/5764 [==============================] - 110s 17ms/step - loss: 0.1293 - accuracy: 0.9464 - val_loss: 0.0618 - val_accuracy: 0.9729\n",
      "Epoch 2/5\n",
      "5764/5764 [==============================] - 98s 17ms/step - loss: 0.0688 - accuracy: 0.9721 - val_loss: 0.0514 - val_accuracy: 0.9776\n",
      "Epoch 3/5\n",
      "5764/5764 [==============================] - 100s 17ms/step - loss: 0.0624 - accuracy: 0.9746 - val_loss: 0.0664 - val_accuracy: 0.9745\n",
      "Epoch 4/5\n",
      "5764/5764 [==============================] - 98s 17ms/step - loss: 0.0527 - accuracy: 0.9795 - val_loss: 0.0341 - val_accuracy: 0.9889\n",
      "Epoch 5/5\n",
      "5764/5764 [==============================] - 97s 17ms/step - loss: 0.0403 - accuracy: 0.9856 - val_loss: 0.0570 - val_accuracy: 0.9759\n",
      "Epoch 1/5\n",
      "5764/5764 [==============================] - 109s 17ms/step - loss: 0.2598 - accuracy: 0.8926 - val_loss: 0.1806 - val_accuracy: 0.9276\n",
      "Epoch 2/5\n",
      "5764/5764 [==============================] - 97s 17ms/step - loss: 0.1585 - accuracy: 0.9346 - val_loss: 0.1331 - val_accuracy: 0.9468\n",
      "Epoch 3/5\n",
      "5764/5764 [==============================] - 98s 17ms/step - loss: 0.1335 - accuracy: 0.9451 - val_loss: 0.1013 - val_accuracy: 0.9598\n",
      "Epoch 4/5\n",
      "5764/5764 [==============================] - 96s 17ms/step - loss: 0.1092 - accuracy: 0.9566 - val_loss: 0.0822 - val_accuracy: 0.9651\n",
      "Epoch 5/5\n",
      "5764/5764 [==============================] - 98s 17ms/step - loss: 0.0965 - accuracy: 0.9617 - val_loss: 0.0685 - val_accuracy: 0.9728\n",
      "Epoch 1/5\n",
      "5764/5764 [==============================] - 108s 17ms/step - loss: 0.1622 - accuracy: 0.9319 - val_loss: 0.0713 - val_accuracy: 0.9726\n",
      "Epoch 2/5\n",
      "5764/5764 [==============================] - 99s 17ms/step - loss: 0.0835 - accuracy: 0.9691 - val_loss: 0.0950 - val_accuracy: 0.9499\n",
      "Epoch 3/5\n",
      "5764/5764 [==============================] - 100s 17ms/step - loss: 0.0686 - accuracy: 0.9741 - val_loss: 0.0483 - val_accuracy: 0.9821\n",
      "Epoch 4/5\n",
      "5764/5764 [==============================] - 98s 17ms/step - loss: 0.0603 - accuracy: 0.9773 - val_loss: 0.0489 - val_accuracy: 0.9826\n",
      "Epoch 5/5\n",
      "5764/5764 [==============================] - 100s 17ms/step - loss: 0.0524 - accuracy: 0.9816 - val_loss: 0.0503 - val_accuracy: 0.9778\n",
      "Best Hyperparameters: {'lstm_unit': 144, 'dropout_rate': 0.1, 'learning_rate': 0.0015, 'batch_size': 80}\n"
     ]
    }
   ],
   "source": [
    "import numpy as np\n",
    "from keras.layers import LSTM, Bidirectional, Dropout, Dense\n",
    "from keras.models import Sequential\n",
    "from keras.optimizers import Adam\n",
    "from keras.callbacks import EarlyStopping\n",
    "\n",
    "# Define the Search Space\n",
    "lstm_units = [32, 64, 128]\n",
    "dropout_rates = [0.1, 0.2, 0.3]\n",
    "learning_rates = [0.001, 0.005]\n",
    "batch_sizes = [32, 64]\n",
    "\n",
    "# Initial Random Selection from Search Space\n",
    "current_hyperparameters = {\n",
    "    \"lstm_unit\": np.random.choice(lstm_units),\n",
    "    \"dropout_rate\": np.random.choice(dropout_rates),\n",
    "    \"learning_rate\": np.random.choice(learning_rates),\n",
    "    \"batch_size\": np.random.choice(batch_sizes)\n",
    "}\n",
    "\n",
    "# Store the best hyperparameters and accuracy\n",
    "best_hyperparameters = None\n",
    "best_accuracy = 0\n",
    "\n",
    "# Function to train a model with given hyperparameters\n",
    "def train_model(hyperparameters):\n",
    "    model = Sequential()\n",
    "    model.add(Bidirectional(LSTM(hyperparameters[\"lstm_unit\"], activation='tanh', return_sequences=True), input_shape=(X_train.shape[1], 1)))\n",
    "    model.add(Dropout(hyperparameters[\"dropout_rate\"]))\n",
    "    model.add(Bidirectional(LSTM(int(hyperparameters[\"lstm_unit\"]/2), activation='tanh', return_sequences=True)))\n",
    "    model.add(Dropout(hyperparameters[\"dropout_rate\"]))\n",
    "    model.add(Bidirectional(LSTM(int(hyperparameters[\"lstm_unit\"]/4), activation='tanh')))\n",
    "    model.add(Dropout(hyperparameters[\"dropout_rate\"]))\n",
    "    model.add(Dense(1, activation='sigmoid'))\n",
    "\n",
    "    opt = Adam(lr=hyperparameters[\"learning_rate\"])\n",
    "    model.compile(loss='binary_crossentropy', optimizer=opt, metrics=['accuracy'])\n",
    "    early_stopping = EarlyStopping(monitor='val_loss', patience=3, restore_best_weights=True)\n",
    "    history = model.fit(X_train, y_train, epochs=5, batch_size=hyperparameters[\"batch_size\"], validation_data=(X_test, y_test), callbacks=[early_stopping])\n",
    "\n",
    "    return history.history[\"val_accuracy\"][-1]\n",
    "\n",
    "# SOA Loop\n",
    "for iteration in range(10):\n",
    "    accuracy = train_model(current_hyperparameters)\n",
    "\n",
    "    # Update best hyperparameters if better ones are found\n",
    "    if accuracy > best_accuracy:\n",
    "        best_accuracy = accuracy\n",
    "        best_hyperparameters = current_hyperparameters.copy()\n",
    "\n",
    "        # Greedy Exploitation: Refine search around the best hyperparameters\n",
    "        # Here, we're perturbing the hyperparameters slightly\n",
    "        current_hyperparameters = {\n",
    "            \"lstm_unit\": max(32, best_hyperparameters[\"lstm_unit\"] + np.random.choice([-16, 16])),\n",
    "            \"dropout_rate\": min(0.3, max(0.1, best_hyperparameters[\"dropout_rate\"] + np.random.choice([-0.1, 0.1]))),\n",
    "            \"learning_rate\": min(0.005, max(0.001, best_hyperparameters[\"learning_rate\"] * np.random.choice([0.5, 1.5]))),\n",
    "            \"batch_size\": max(32, best_hyperparameters[\"batch_size\"] + np.random.choice([-16, 16]))\n",
    "        }\n",
    "    else:\n",
    "        # Random Exploration\n",
    "        current_hyperparameters = {\n",
    "            \"lstm_unit\": np.random.choice(lstm_units),\n",
    "            \"dropout_rate\": np.random.choice(dropout_rates),\n",
    "            \"learning_rate\": np.random.choice(learning_rates),\n",
    "            \"batch_size\": np.random.choice(batch_sizes)\n",
    "        }\n",
    "\n",
    "print(\"Best Hyperparameters:\", best_hyperparameters)\n"
   ]
  },
  {
   "cell_type": "code",
   "execution_count": null,
   "metadata": {
    "colab": {
     "base_uri": "https://localhost:8080/"
    },
    "id": "IJuanRKU26xw",
    "outputId": "6a6829be-dccb-446e-dab8-5c29b2dd137a"
   },
   "outputs": [
    {
     "name": "stdout",
     "output_type": "stream",
     "text": [
      "best acc 0.9947184920310974\n"
     ]
    }
   ],
   "source": [
    "print('best acc', best_accuracy)"
   ]
  },
  {
   "cell_type": "markdown",
   "metadata": {
    "id": "Pqt1mgP5Sz8O"
   },
   "source": [
    "## training with best parameters"
   ]
  },
  {
   "cell_type": "code",
   "execution_count": null,
   "metadata": {
    "colab": {
     "base_uri": "https://localhost:8080/"
    },
    "id": "20YKvP8lSsJU",
    "outputId": "2cb18cb4-a4d8-45f9-c884-d644982d296e"
   },
   "outputs": [
    {
     "name": "stderr",
     "output_type": "stream",
     "text": [
      "/usr/local/lib/python3.10/dist-packages/keras/optimizers/legacy/adam.py:117: UserWarning: The `lr` argument is deprecated, use `learning_rate` instead.\n",
      "  super().__init__(name, **kwargs)\n"
     ]
    },
    {
     "name": "stdout",
     "output_type": "stream",
     "text": [
      "Epoch 1/5\n",
      "4611/4611 [==============================] - 103s 19ms/step - loss: 0.2129 - accuracy: 0.9108 - val_loss: 0.1004 - val_accuracy: 0.9580\n",
      "Epoch 2/5\n",
      "4611/4611 [==============================] - 97s 21ms/step - loss: 0.0830 - accuracy: 0.9671 - val_loss: 0.0426 - val_accuracy: 0.9838\n",
      "Epoch 3/5\n",
      "4611/4611 [==============================] - 85s 19ms/step - loss: 0.0599 - accuracy: 0.9763 - val_loss: 0.0502 - val_accuracy: 0.9792\n",
      "Epoch 4/5\n",
      "4611/4611 [==============================] - 84s 18ms/step - loss: 0.0532 - accuracy: 0.9799 - val_loss: 0.0718 - val_accuracy: 0.9773\n",
      "Epoch 5/5\n",
      "4611/4611 [==============================] - 82s 18ms/step - loss: 0.0452 - accuracy: 0.9832 - val_loss: 0.0349 - val_accuracy: 0.9879\n"
     ]
    }
   ],
   "source": [
    "from keras.layers import LSTM, Bidirectional, Dropout, Dense\n",
    "from keras.models import Sequential\n",
    "from keras.optimizers import Adam\n",
    "from keras.callbacks import EarlyStopping\n",
    "\n",
    "model = Sequential()\n",
    "model.add(Bidirectional(LSTM(144, activation='tanh', return_sequences=True), input_shape=(X_train.shape[1], 1)))\n",
    "model.add(Dropout(0.1))\n",
    "model.add(Bidirectional(LSTM(int(144/2), activation='tanh', return_sequences=True)))\n",
    "model.add(Dropout(0.1))\n",
    "model.add(Bidirectional(LSTM(int(144/4), activation='tanh')))\n",
    "model.add(Dropout(0.1))\n",
    "model.add(Dense(1, activation='sigmoid'))\n",
    "\n",
    "opt = Adam(lr=0.0015)\n",
    "model.compile(loss='binary_crossentropy', optimizer=opt, metrics=['accuracy'])\n",
    "\n",
    "# Define early stopping callback\n",
    "early_stopping = EarlyStopping(monitor='val_loss', patience=3, restore_best_weights=True)\n",
    "\n",
    "history = model.fit(X_train, y_train, epochs=5, batch_size=80, validation_data=(X_test, y_test), callbacks=[early_stopping])\n"
   ]
  },
  {
   "cell_type": "code",
   "execution_count": null,
   "metadata": {
    "id": "tkwWWJ49otIo"
   },
   "outputs": [],
   "source": [
    "from sklearn.metrics import confusion_matrix\n",
    "\n",
    "y_pred = model.predict(X_test)\n",
    "y_pred = (y_pred > 0.5)  # Convert predicted probabilities to binary labels"
   ]
  },
  {
   "cell_type": "code",
   "execution_count": null,
   "metadata": {
    "colab": {
     "base_uri": "https://localhost:8080/",
     "height": 710
    },
    "id": "T9MOK_NFqkmK",
    "outputId": "ac29a5c8-e81c-40fd-85c9-75c175b5ed42"
   },
   "outputs": [
    {
     "name": "stdout",
     "output_type": "stream",
     "text": [
      "Confusion Matrix:\n",
      "[[59226   694]\n",
      " [  421 31868]]\n"
     ]
    },
    {
     "data": {
      "image/png": "[encoded data removed]",
      "text/plain": [
       "<Figure size 640x480 with 2 Axes>"
      ]
     },
     "metadata": {},
     "output_type": "display_data"
    },
    {
     "name": "stdout",
     "output_type": "stream",
     "text": [
      "Classification Report:\n",
      "              precision    recall  f1-score   support\n",
      "\n",
      "           0       0.99      0.99      0.99     59920\n",
      "           1       0.98      0.99      0.98     32289\n",
      "\n",
      "    accuracy                           0.99     92209\n",
      "   macro avg       0.99      0.99      0.99     92209\n",
      "weighted avg       0.99      0.99      0.99     92209\n",
      "\n",
      "Sensitivity: [0.9884178905206943, 0.9869615039177428]\n",
      "Specificity: [0.9869615039177428, 0.9884178905206943]\n"
     ]
    }
   ],
   "source": [
    "evaluate_classifier(y_test, y_pred)"
   ]
  },
  {
   "cell_type": "code",
   "execution_count": null,
   "metadata": {
    "colab": {
     "base_uri": "https://localhost:8080/",
     "height": 449
    },
    "id": "rOskLAUNotIw",
    "outputId": "2aa4f9e3-258b-4b97-9bcc-34dff7e0dfb8"
   },
   "outputs": [
    {
     "data": {
      "image/png": "[encoded data removed]",
      "text/plain": [
       "<Figure size 640x480 with 2 Axes>"
      ]
     },
     "metadata": {},
     "output_type": "display_data"
    }
   ],
   "source": [
    "import seaborn as sns\n",
    "import matplotlib.pyplot as plt\n",
    "\n",
    "sns.heatmap(cm, annot=True, fmt='d', cmap='Blues')\n",
    "plt.xlabel('Predicted label')\n",
    "plt.ylabel('True label')\n",
    "plt.show()\n"
   ]
  },
  {
   "cell_type": "code",
   "execution_count": null,
   "metadata": {
    "colab": {
     "base_uri": "https://localhost:8080/"
    },
    "id": "SsPlNRmootIx",
    "outputId": "77b9e8dc-2cac-4a8e-9ba7-1506577d61b5"
   },
   "outputs": [
    {
     "name": "stdout",
     "output_type": "stream",
     "text": [
      "              precision    recall  f1-score   support\n",
      "\n",
      "           0       0.99      0.99      0.99     59920\n",
      "           1       0.98      0.99      0.98     32289\n",
      "\n",
      "    accuracy                           0.99     92209\n",
      "   macro avg       0.99      0.99      0.99     92209\n",
      "weighted avg       0.99      0.99      0.99     92209\n",
      "\n"
     ]
    }
   ],
   "source": [
    "from sklearn.metrics import classification_report\n",
    "print(classification_report(y_test, y_pred))"
   ]
  },
  {
   "cell_type": "code",
   "execution_count": null,
   "metadata": {
    "id": "ts1d6lsZqRTI"
   },
   "outputs": [],
   "source": [
    "e"
   ]
  }
 ],
 "metadata": {
  "accelerator": "GPU",
  "colab": {
   "gpuType": "T4",
   "provenance": [],
   "toc_visible": true
  },
  "kernelspec": {
   "display_name": "venv10(python 3.10.0)",
   "language": "python",
   "name": "venv10"
  },
  "language_info": {
   "codemirror_mode": {
    "name": "ipython",
    "version": 3
   },
   "file_extension": ".py",
   "mimetype": "text/x-python",
   "name": "python",
   "nbconvert_exporter": "python",
   "pygments_lexer": "ipython3",
   "version": "3.10.0"
  }
 },
 "nbformat": 4,
 "nbformat_minor": 4
}
