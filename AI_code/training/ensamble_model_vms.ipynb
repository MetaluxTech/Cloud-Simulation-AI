{
 "cells": [
  {
   "cell_type": "code",
   "execution_count": 8,
   "id": "5b169ee5-9af7-43dd-ae0f-f7c7f7e10bab",
   "metadata": {},
   "outputs": [],
   "source": [
    "import pandas as pd\n",
    "import tensorflow as tf\n",
    "import seaborn as sns\n",
    "import numpy as np\n",
    "import matplotlib.pyplot as plt\n",
    "from sklearn.preprocessing import StandardScaler,LabelEncoder\n",
    "from sklearn.preprocessing import StandardScaler,LabelEncoder\n",
    "from sklearn.model_selection import train_test_split\n",
    "from sklearn.metrics import accuracy_score, classification_report, confusion_matrix\n",
    "from keras.models import Sequential,load_model\n",
    "from keras.layers import LSTM, Dense,Dropout,Bidirectional\n",
    "from keras.utils import to_categorical\n",
    "from sklearn.ensemble import RandomForestClassifier\n",
    "from sklearn.ensemble import VotingClassifier\n",
    "from sklearn.linear_model import LogisticRegression\n",
    "\n",
    "from keras.optimizers import Adam\n",
    "from keras.callbacks import EarlyStopping\n",
    "tf.get_logger().setLevel('ERROR')"
   ]
  },
  {
   "cell_type": "code",
   "execution_count": 29,
   "id": "df2b53ca-a1d7-42b6-aab8-54008d08a361",
   "metadata": {},
   "outputs": [
    {
     "name": "stdout",
     "output_type": "stream",
     "text": [
      "<class 'pandas.core.frame.DataFrame'>\n",
      "RangeIndex: 2000 entries, 0 to 1999\n",
      "Data columns (total 13 columns):\n",
      " #   Column                 Non-Null Count  Dtype  \n",
      "---  ------                 --------------  -----  \n",
      " 0   TaskID                 2000 non-null   int64  \n",
      " 1   TaskFileSize           2000 non-null   int64  \n",
      " 2   TaskOutputFileSize     2000 non-null   int64  \n",
      " 3   TaskFileLength         2000 non-null   int64  \n",
      " 4   CpuTime                2000 non-null   float64\n",
      " 5   TotalLength            2000 non-null   int64  \n",
      " 6   UserLatitude           2000 non-null   float64\n",
      " 7   UserLongitude          2000 non-null   float64\n",
      " 8   DataCenterID           2000 non-null   int64  \n",
      " 9   VmID                   2000 non-null   int64  \n",
      " 10  ENSEMBLE_predicted_DC  2000 non-null   int64  \n",
      " 11  GA_predicted_DC        2000 non-null   int64  \n",
      " 12  SNAKE_predicted_DC     2000 non-null   int64  \n",
      "dtypes: float64(3), int64(10)\n",
      "memory usage: 203.2 KB\n",
      "None\n",
      "[ 2  3  4  5  6  7  8  9 10 11 12 13 14 15]\n",
      "[ 0  1  2  3  4  5  6  7  8  9 10 11 12 13]\n",
      "<class 'pandas.core.frame.DataFrame'>\n",
      "RangeIndex: 2000 entries, 0 to 1999\n",
      "Data columns (total 5 columns):\n",
      " #   Column              Non-Null Count  Dtype  \n",
      "---  ------              --------------  -----  \n",
      " 0   TaskFileSize        2000 non-null   int64  \n",
      " 1   TaskOutputFileSize  2000 non-null   int64  \n",
      " 2   TaskFileLength      2000 non-null   int64  \n",
      " 3   CpuTime             2000 non-null   float64\n",
      " 4   TotalLength         2000 non-null   int64  \n",
      "dtypes: float64(1), int64(4)\n",
      "memory usage: 78.2 KB\n",
      "None\n",
      "(1600, 5) (400,)\n",
      "task info TaskFileSize          33.000000\n",
      "TaskOutputFileSize    19.000000\n",
      "TaskFileLength        19.000000\n",
      "CpuTime                3.588796\n",
      "TotalLength           83.000000\n",
      "Name: 1, dtype: float64\n",
      "Ensabmle Model  Accuracy:  84.0 %\n",
      "(1600, 5) (1600,)\n"
     ]
    }
   ],
   "source": [
    "\n",
    "df = pd.read_csv('../dataset/global_dataset.csv') \n",
    "print(df.info())\n",
    "\n",
    "unique_labels = np.unique(df['VmID'])\n",
    "num_classes=len(unique_labels)\n",
    "print(unique_labels)\n",
    "\n",
    "\n",
    "X = df[['TaskFileSize', 'TaskOutputFileSize', 'TaskFileLength', 'CpuTime', 'TotalLength']]  # Features\n",
    "y=df['VmID']\n",
    "label_encoder = LabelEncoder()\n",
    "y = label_encoder.fit_transform(y)\n",
    "\n",
    "X_train, X_test, y_train, y_test = train_test_split(X, y, test_size=0.2)\n",
    "print(np.unique(y))\n",
    "\n",
    "\n",
    "print(X.info())\n",
    "\n",
    "print(X_train.shape,y_test.shape)\n",
    "\n",
    "rf_classifier = RandomForestClassifier(n_estimators=100, random_state=42)\n",
    "rf_classifier.fit(X_train, y_train)\n",
    "y_pred_rf = rf_classifier.predict(X_test)\n",
    "accuracy = accuracy_score(y_test, y_pred_rf)\n",
    "print(\"task info\",X.iloc[1])\n",
    "print(\"Ensabmle Model  Accuracy: \",np.round(accuracy* 100) ,'%')\n",
    "print(X_train.shape,y_train.shape)\n",
    "# gegt 81 ['TaskID', 'TaskFileSize', 'TaskOutputFileSize', 'TaskFileLength', 'CpuTime', 'TotalLength', 'SerivesLevel', 'VmID']\n"
   ]
  },
  {
   "cell_type": "code",
   "execution_count": 30,
   "id": "888c25d3-8b51-4c80-acc1-b0e43e0691ec",
   "metadata": {},
   "outputs": [
    {
     "data": {
      "text/plain": [
       "['../models/enesemble_vms_scheduling_84.joblib']"
      ]
     },
     "execution_count": 30,
     "metadata": {},
     "output_type": "execute_result"
    }
   ],
   "source": [
    "from joblib import dump\n",
    "# \n",
    "dump(rf_classifier, '../models/enesemble_vms_scheduling_84.joblib')\n"
   ]
  },
  {
   "cell_type": "code",
   "execution_count": null,
   "id": "50f6cfca-0312-4263-ab66-f7f3afbee12a",
   "metadata": {},
   "outputs": [],
   "source": []
  }
 ],
 "metadata": {
  "kernelspec": {
   "display_name": ".cloudsim",
   "language": "python",
   "name": ".cloudsim"
  },
  "language_info": {
   "codemirror_mode": {
    "name": "ipython",
    "version": 3
   },
   "file_extension": ".py",
   "mimetype": "text/x-python",
   "name": "python",
   "nbconvert_exporter": "python",
   "pygments_lexer": "ipython3",
   "version": "3.10.0"
  }
 },
 "nbformat": 4,
 "nbformat_minor": 5
}
