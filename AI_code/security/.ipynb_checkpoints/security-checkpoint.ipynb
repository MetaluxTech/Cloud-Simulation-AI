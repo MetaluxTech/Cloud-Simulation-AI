{
 "cells": [
  {
   "cell_type": "code",
   "execution_count": 1,
   "metadata": {
    "id": "GPUz34AyZ1xT"
   },
   "outputs": [
    {
     "name": "stdout",
     "output_type": "stream",
     "text": [
      "WARNING:tensorflow:From C:\\Users\\mohsal\\Desktop\\app\\metalux\\cloudsim\\ga_lstm\\AI_code\\.venv\\lib\\site-packages\\keras\\src\\losses.py:2976: The name tf.losses.sparse_softmax_cross_entropy is deprecated. Please use tf.compat.v1.losses.sparse_softmax_cross_entropy instead.\n",
      "\n"
     ]
    }
   ],
   "source": [
    "import pandas as pd\n",
    "import numpy as np\n",
    "import matplotlib.pyplot as plt\n",
    "from sklearn.preprocessing import LabelEncoder\n",
    "from sklearn.preprocessing import StandardScaler\n",
    "from sklearn.metrics import accuracy_score\n",
    "from tensorflow.keras.layers import Conv1D, MaxPooling1D, Flatten, Dense, Dropout, Activation\n",
    "from keras.models import Sequential, Model\n",
    "from sklearn.metrics import confusion_matrix\n",
    "from sklearn.metrics import classification_report\n",
    "from sklearn.model_selection import train_test_split,StratifiedKFold\n",
    "from sklearn.preprocessing import MinMaxScaler\n",
    "from keras.layers import Input, concatenate\n",
    "from sklearn.metrics import accuracy_score, confusion_matrix, classification_report\n",
    "from keras.layers import LSTM, Bidirectional, Dropout, Dense\n",
    "from keras.models import Sequential\n",
    "from keras.optimizers import Adam\n",
    "from keras.callbacks import EarlyStopping\n",
    "import tensorflow as tf"
   ]
  },
  {
   "cell_type": "code",
   "execution_count": 17,
   "metadata": {
    "id": "SC46ycsoXBBg"
   },
   "outputs": [
    {
     "name": "stdout",
     "output_type": "stream",
     "text": [
      "[     0      1      2 ... 461040 461041 461042]\n"
     ]
    },
    {
     "data": {
      "image/png": "[encoded data removed]",
      "text/plain": [
       "<Figure size 640x480 with 1 Axes>"
      ]
     },
     "metadata": {},
     "output_type": "display_data"
    }
   ],
   "source": [
    "df = pd.read_csv('TON_IoT.csv')\n",
    "\n",
    "#  #   Column                  Non-Null Count   Dtype  \n",
    "# ---  ------                  --------------   -----  \n",
    "#  0   ts                      461043 non-null  int64  \n",
    "#  1   src_ip                  461043 non-null  object \n",
    "#  2   src_port                461043 non-null  int64  \n",
    "#  3   dst_ip                  461043 non-null  object \n",
    "#  4   dst_port                461043 non-null  int64  \n",
    "#  5   proto                   461043 non-null  object \n",
    "#  6   service                 461043 non-null  object \n",
    "#  7   duration                461043 non-null  float64\n",
    "#  8   src_bytes               461043 non-null  int64  \n",
    "#  9   dst_bytes               461043 non-null  int64  \n",
    "#  10  conn_state              461043 non-null  object \n",
    "#  11  missed_bytes            461043 non-null  int64  \n",
    "#  12  src_pkts                461043 non-null  int64  \n",
    "#  13  src_ip_bytes            461043 non-null  int64  \n",
    "#  14  dst_pkts                461043 non-null  int64  \n",
    "#  15  dst_ip_bytes            461043 non-null  int64  \n",
    "#  16  dns_query               461043 non-null  object \n",
    "#  17  dns_qclass              461043 non-null  int64  \n",
    "#  18  dns_qtype               461043 non-null  int64  \n",
    "#  19  dns_rcode               461043 non-null  int64  \n",
    "#  20  dns_AA                  461043 non-null  object \n",
    "#  21  dns_RD                  461043 non-null  object \n",
    "#  22  dns_RA                  461043 non-null  object \n",
    "#  23  dns_rejected            461043 non-null  object \n",
    "#  24  ssl_version             461043 non-null  object \n",
    "#  25  ssl_cipher              461043 non-null  object \n",
    "#  26  ssl_resumed             461043 non-null  object \n",
    "#  27  ssl_established         461043 non-null  object \n",
    "#  28  ssl_subject             461043 non-null  object \n",
    "#  29  ssl_issuer              461043 non-null  object \n",
    "#  30  http_trans_depth        461043 non-null  object \n",
    "#  31  http_method             461043 non-null  object \n",
    "#  32  http_uri                461043 non-null  object \n",
    "#  33  http_version            461043 non-null  object \n",
    "#  34  http_request_body_len   461043 non-null  int64  \n",
    "#  35  http_response_body_len  461043 non-null  int64  \n",
    "#  36  http_status_code        461043 non-null  int64  \n",
    "#  37  http_user_agent         461043 non-null  object \n",
    "#  38  http_orig_mime_types    461043 non-null  object \n",
    "#  39  http_resp_mime_types    461043 non-null  object \n",
    "#  40  weird_name              461043 non-null  object \n",
    "#  41  weird_addl              461043 non-null  object \n",
    "#  42  weird_notice            461043 non-null  object \n",
    "#  43  label                   461043 non-null  int64  \n",
    "#  44  type                    461043 non-null  object \n",
    "# dtypes: float64(1), int64(17), object(27)\n",
    "yteckites=[]\n",
    "print(df.index.values)\n",
    "plt.scatter(df.index.values,df.ts/10**7,color=\"r\",)\n",
    "plt.title('TS')\n",
    "plt.xlabel(\"outcomes\")\n",
    "plt.ylabel(\"TS value ^10Milion \")\n",
    "plt.show()"
   ]
  },
  {
   "cell_type": "code",
   "execution_count": 3,
   "metadata": {
    "colab": {
     "base_uri": "https://localhost:8080/",
     "height": 36
    },
    "id": "UoQDPDxOjyXn",
    "outputId": "dc0a98f0-53c3-4f2d-85e2-eb8c678f896c"
   },
   "outputs": [],
   "source": [
    "from Crypto.Cipher import AES\n",
    "from Crypto.Random import get_random_bytes\n",
    "from base64 import b64encode\n",
    "from Crypto.Util.Padding import pad, unpad\n",
    "from Crypto.Random import get_random_bytes\n",
    "from Crypto.Cipher import PKCS1_OAEP\n",
    "from Crypto.PublicKey import RSA\n"
   ]
  },
  {
   "cell_type": "code",
   "execution_count": 4,
   "metadata": {
    "colab": {
     "base_uri": "https://localhost:8080/",
     "height": 36
    },
    "id": "UoQDPDxOjyXn",
    "outputId": "dc0a98f0-53c3-4f2d-85e2-eb8c678f896c"
   },
   "outputs": [
    {
     "data": {
      "text/plain": [
       "'pmxj4w6SBu8BzW94kG36vdrMF6t8ksyt6h2HoiOsJp4='"
      ]
     },
     "execution_count": 4,
     "metadata": {},
     "output_type": "execute_result"
    }
   ],
   "source": [
    "aes_key = get_random_bytes(32)  # AES-256\n",
    "base64_encoded_aes_key = b64encode(aes_key).decode('utf-8')"
   ]
  },
  {
   "cell_type": "code",
   "execution_count": 5,
   "metadata": {
    "colab": {
     "base_uri": "https://localhost:8080/",
     "height": 36
    },
    "id": "P6RttgWmnh5I",
    "outputId": "94631052-ae80-4fdb-8366-abcfd53cfbc6"
   },
   "outputs": [],
   "source": [
    "input_file_path = \"TON_IoT.csv\"\n",
    "encrypted_file_path = \"encrypted_TON_IoT.csv\"\n",
    "decrypted_file_path = \"decrypted_TON_IoT.csv\"\n",
    "def encrypt_file(input_file_path, output_file_path, key):\n",
    "    # Initialize AES cipher with CBC mode\n",
    "    iv = get_random_bytes(16)\n",
    "    cipher = AES.new(key, AES.MODE_CBC, iv)\n",
    "    # Read and encrypt the file\n",
    "    with open(input_file_path, 'rb') as file:\n",
    "        plaintext = file.read()\n",
    "        ciphertext = cipher.encrypt(pad(plaintext, AES.block_size))\n",
    "    # Write the IV followed by the ciphertext to the output file\n",
    "    with open(output_file_path, 'wb') as file:\n",
    "        file.write(iv + ciphertext)\n",
    "\n",
    "encrypt_file(input_file_path, encrypted_file_path, aes_key)"
   ]
  },
  {
   "cell_type": "code",
   "execution_count": 6,
   "metadata": {
    "colab": {
     "base_uri": "https://localhost:8080/"
    },
    "id": "VnxIcWrpnx9S",
    "outputId": "a248cae0-2e1e-4441-ab27-869643897d12"
   },
   "outputs": [],
   "source": [
    "rsa_key = RSA.generate(2048)\n",
    "private_key = rsa_key.export_key()\n",
    "public_key = rsa_key.publickey().export_key()\n",
    "private_key_path = \"private_key.pem\"\n",
    "public_key_path = \"public_key.pem\"\n",
    "with open(private_key_path, 'wb') as file:\n",
    "    file.write(private_key)\n",
    "\n",
    "with open(public_key_path, 'wb') as file:\n",
    "    file.write(public_key)"
   ]
  },
  {
   "cell_type": "code",
   "execution_count": 7,
   "metadata": {
    "colab": {
     "base_uri": "https://localhost:8080/",
     "height": 71
    },
    "id": "UWNu8vS3oa3J",
    "outputId": "60e075f6-c2d4-4dbe-a667-aeb4c98486a8"
   },
   "outputs": [],
   "source": [
    "rsa_public_key = RSA.import_key(open(public_key_path).read())\n",
    "cipher_rsa = PKCS1_OAEP.new(rsa_public_key)\n",
    "encrypted_aes_key = cipher_rsa.encrypt(aes_key)\n",
    "base64_encoded_encrypted_aes_key = b64encode(encrypted_aes_key).decode('utf-8')"
   ]
  },
  {
   "cell_type": "code",
   "execution_count": 8,
   "metadata": {
    "colab": {
     "base_uri": "https://localhost:8080/",
     "height": 36
    },
    "id": "boSVIcOuooii",
    "outputId": "809b16da-f8ac-4635-ed4a-8b09fd0dab1d"
   },
   "outputs": [],
   "source": [
    "rsa_private_key = RSA.import_key(open(private_key_path).read())\n",
    "cipher_rsa_dec = PKCS1_OAEP.new(rsa_private_key)\n",
    "decrypted_aes_key = cipher_rsa_dec.decrypt(encrypted_aes_key)\n",
    "base64_encoded_decrypted_aes_key = b64encode(decrypted_aes_key).decode('utf-8')"
   ]
  },
  {
   "cell_type": "code",
   "execution_count": 9,
   "metadata": {
    "colab": {
     "base_uri": "https://localhost:8080/",
     "height": 36
    },
    "id": "XO3TgVeDq4rx",
    "outputId": "15a0b0d2-c537-457f-81a3-c516de56525a"
   },
   "outputs": [],
   "source": [
    "def decrypt_file(input_file_path, output_file_path, key):\n",
    "    with open(input_file_path, 'rb') as file:\n",
    "        iv = file.read(16)\n",
    "        ciphertext = file.read()\n",
    "        \n",
    "    cipher = AES.new(key, AES.MODE_CBC, iv)\n",
    "    plaintext = unpad(cipher.decrypt(ciphertext), AES.block_size)\n",
    "    with open(output_file_path, 'wb') as file:\n",
    "        file.write(plaintext)\n",
    "\n",
    "decrypt_file(encrypted_file_path, decrypted_file_path, decrypted_aes_key)"
   ]
  },
  {
   "cell_type": "code",
   "execution_count": 10,
   "metadata": {
    "colab": {
     "base_uri": "https://localhost:8080/"
    },
    "id": "CfefaYR7pLr1",
    "outputId": "a87dec25-13b6-42bf-a81b-02bc4486ac94"
   },
   "outputs": [
    {
     "name": "stdout",
     "output_type": "stream",
     "text": [
      "the decrypted AES key matches the original key\n"
     ]
    }
   ],
   "source": [
    "key_match = decrypted_aes_key == aes_key\n",
    "print('the decrypted AES key matches the original key') if key_match else 'the decrypted AES key does not matche the original key'"
   ]
  },
  {
   "cell_type": "code",
   "execution_count": 11,
   "metadata": {
    "colab": {
     "base_uri": "https://localhost:8080/"
    },
    "id": "vJPlQN4zpR6B",
    "outputId": "260f250b-3322-40da-de60-d416be13ab72"
   },
   "outputs": [],
   "source": [
    "original_df = pd.read_csv(input_file_path)\n",
    "decrypted_df = pd.read_csv(decrypted_file_path)\n",
    "original_shape = original_df.shape\n",
    "decrypted_shape = decrypted_df.shape"
   ]
  },
  {
   "cell_type": "code",
   "execution_count": 12,
   "metadata": {
    "colab": {
     "base_uri": "https://localhost:8080/"
    },
    "id": "NmRdB8qBvBDM",
    "outputId": "1edd15e1-ff86-4f42-e037-f903ec6852c0"
   },
   "outputs": [
    {
     "name": "stdout",
     "output_type": "stream",
     "text": [
      "matching rows:\n",
      "461043 / 461043\n",
      "100.0 % match\n"
     ]
    }
   ],
   "source": [
    "matching_rows = (original_df == decrypted_df).all(axis=1).sum()\n",
    "percentage_matching = (matching_rows / len(original_df)) * 100\n",
    "print('matching rows:')\n",
    "print(matching_rows , '/', len(original_df))\n",
    "print(percentage_matching, '% match')"
   ]
  },
  {
   "cell_type": "code",
   "execution_count": 13,
   "metadata": {
    "id": "c89N-IsEZu7N"
   },
   "outputs": [],
   "source": [
    "X= decrypted_df.drop(['label', 'type'], axis = 1)\n",
    "y= decrypted_df['label']"
   ]
  },
  {
   "cell_type": "code",
   "execution_count": 14,
   "metadata": {
    "id": "qZaUS9ReZwgW"
   },
   "outputs": [],
   "source": [
    "le = LabelEncoder()\n",
    "for col in X.columns:\n",
    "    if X[col].dtype == 'object':\n",
    "        X[col] = le.fit_transform(X[col].astype(str))"
   ]
  },
  {
   "cell_type": "code",
   "execution_count": 15,
   "metadata": {
    "id": "y35F66N9Z-rv"
   },
   "outputs": [],
   "source": [
    "scaler = MinMaxScaler()\n",
    "scaledX = scaler.fit_transform(X)"
   ]
  },
  {
   "cell_type": "code",
   "execution_count": 16,
   "metadata": {
    "colab": {
     "base_uri": "https://localhost:8080/"
    },
    "id": "MFp1mdCJaBDT",
    "outputId": "87b83a53-9b24-4c66-934d-0e25c2d3f745"
   },
   "outputs": [
    {
     "name": "stdout",
     "output_type": "stream",
     "text": [
      "Total NaN values in df: 0\n"
     ]
    }
   ],
   "source": [
    "num_nans = X.isna().sum().sum()\n",
    "print(f'Total NaN values in df: {num_nans}')"
   ]
  },
  {
   "cell_type": "code",
   "execution_count": 17,
   "metadata": {
    "id": "GxJC40t0aMje"
   },
   "outputs": [],
   "source": [
    "X_train, X_test, y_train, y_test = train_test_split(scaledX, y, test_size=0.2, random_state=20)"
   ]
  },
  {
   "cell_type": "code",
   "execution_count": 18,
   "metadata": {
    "id": "aMdV0tebc3MM"
   },
   "outputs": [],
   "source": [
    "def evaluate_classifier(y_test, y_pred):\n",
    "    cm = confusion_matrix(y_test, y_pred)\n",
    "    print(\"Confusion Matrix:\")\n",
    "    print(cm)\n",
    "\n",
    "    # Plot the confusion matrix\n",
    "    plt.imshow(cm, interpolation='nearest', cmap=plt.cm.Blues)\n",
    "    plt.colorbar()\n",
    "    tick_marks = np.arange(len(set(y_test)))\n",
    "    plt.xticks(tick_marks, sorted(set(y_test)))\n",
    "    plt.yticks(tick_marks, sorted(set(y_test)))\n",
    "    plt.xlabel('Predicted Label')\n",
    "    plt.ylabel('True Label')\n",
    "\n",
    "    # Add the numbers to the confusion matrix plot\n",
    "    for i in range(cm.shape[0]):\n",
    "        for j in range(cm.shape[1]):\n",
    "            plt.text(j, i, cm[i, j], horizontalalignment='center', color='white' if cm[i, j] > cm.max() / 2. else 'black')\n",
    "\n",
    "    plt.show()\n",
    "\n",
    "    # Calculate the classification report\n",
    "    report = classification_report(y_test, y_pred)\n",
    "    print(\"Classification Report:\")\n",
    "    print(report)\n",
    "\n",
    "    # Calculate sensitivity and specificity\n",
    "    sensitivity = []\n",
    "    specificity = []\n",
    "    for i in range(cm.shape[0]):\n",
    "        tp = cm[i, i]\n",
    "        fn = cm[i, :].sum() - tp\n",
    "        fp = cm[:, i].sum() - tp\n",
    "        tn = cm.sum() - tp - fp - fn\n",
    "        sensitivity.append(tp / (tp + fn))\n",
    "        specificity.append(tn / (tn + fp))\n",
    "    print(\"Sensitivity:\", sensitivity)\n",
    "    print(\"Specificity:\", specificity)\n"
   ]
  }
 ],
 "metadata": {
  "accelerator": "GPU",
  "colab": {
   "gpuType": "T4",
   "provenance": [],
   "toc_visible": true
  },
  "kernelspec": {
   "display_name": ".cloudsim",
   "language": "python",
   "name": ".cloudsim"
  },
  "language_info": {
   "codemirror_mode": {
    "name": "ipython",
    "version": 3
   },
   "file_extension": ".py",
   "mimetype": "text/x-python",
   "name": "python",
   "nbconvert_exporter": "python",
   "pygments_lexer": "ipython3",
   "version": "3.10.0"
  }
 },
 "nbformat": 4,
 "nbformat_minor": 4
}
