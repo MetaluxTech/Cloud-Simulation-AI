{
 "cells": [
  {
   "cell_type": "code",
   "execution_count": 1,
   "id": "5b169ee5-9af7-43dd-ae0f-f7c7f7e10bab",
   "metadata": {},
   "outputs": [
    {
     "name": "stdout",
     "output_type": "stream",
     "text": [
      "WARNING:tensorflow:From C:\\Users\\mohsal\\Desktop\\app\\metalux\\cloudsim\\ga_lstm\\AI_code\\.venv\\lib\\site-packages\\keras\\src\\losses.py:2976: The name tf.losses.sparse_softmax_cross_entropy is deprecated. Please use tf.compat.v1.losses.sparse_softmax_cross_entropy instead.\n",
      "\n"
     ]
    }
   ],
   "source": [
    "import pandas as pd\n",
    "import tensorflow as tf\n",
    "import seaborn as sns\n",
    "import numpy as np\n",
    "import matplotlib.pyplot as plt\n",
    "from sklearn.preprocessing import StandardScaler,LabelEncoder\n",
    "from sklearn.preprocessing import StandardScaler,LabelEncoder\n",
    "from sklearn.model_selection import train_test_split\n",
    "from sklearn.metrics import accuracy_score, classification_report, confusion_matrix\n",
    "from keras.models import Sequential,load_model\n",
    "from keras.layers import LSTM, Dense,Dropout,Bidirectional\n",
    "from keras.utils import to_categorical\n",
    "from sklearn.ensemble import RandomForestClassifier\n",
    "from sklearn.ensemble import VotingClassifier\n",
    "from sklearn.linear_model import LogisticRegression\n",
    "\n",
    "from keras.optimizers import Adam\n",
    "from keras.callbacks import EarlyStopping\n",
    "tf.get_logger().setLevel('ERROR')"
   ]
  },
  {
   "cell_type": "code",
   "execution_count": 3,
   "id": "df2b53ca-a1d7-42b6-aab8-54008d08a361",
   "metadata": {},
   "outputs": [
    {
     "name": "stdout",
     "output_type": "stream",
     "text": [
      "[ 2  3  4  5  6  7  8  9 10 11 12 13 14 15]\n",
      "[ 0  1  2  3  4  5  6  7  8  9 10 11 12 13]\n",
      "Index(['TaskID', 'TaskFileSize', 'TaskOutputFileSize', 'TaskFileLength',\n",
      "       'CpuTime', 'TotalLength', 'VmID'],\n",
      "      dtype='object')\n",
      "(1600, 6) (400,)\n",
      "task info TaskID                 2.000000\n",
      "TaskFileSize          18.000000\n",
      "TaskOutputFileSize    15.000000\n",
      "TaskFileLength        83.000000\n",
      "CpuTime                3.588796\n",
      "TotalLength           83.000000\n",
      "Name: 1, dtype: float64\n",
      "Ensabmle Model  Accuracy:  85.0 %\n"
     ]
    }
   ],
   "source": [
    "\n",
    "df = pd.read_csv('../dataset/vms_scheduling_dataset_2000.csv') \n",
    "\n",
    "unique_labels = np.unique(df['VmID'])\n",
    "num_classes=len(unique_labels)\n",
    "print(unique_labels)\n",
    "task_columns=['CostPerSec', 'StartExecTime','SerivesLevel']\n",
    "location_columns=['UserLatitude', 'UserLongitude']\n",
    "vms_columns=['VmProcessingSpeed','VmRam','VmBandwidth','VmStorage','VmMemoryCost','VmStorageCost','VmBandwidthCost','VmProcessingCost']\n",
    "df.drop(columns=vms_columns+task_columns+location_columns, inplace=True)\n",
    "\n",
    "\n",
    "X = df.drop('VmID', axis=1)  # Features\n",
    "y=df['VmID']\n",
    "label_encoder = LabelEncoder()\n",
    "y = label_encoder.fit_transform(y)\n",
    "\n",
    "X_train, X_test, y_train, y_test = train_test_split(X, y, test_size=0.2)\n",
    "print(np.unique(y))\n",
    "\n",
    "\n",
    "print(df.columns)\n",
    "\n",
    "print(X_train.shape,y_test.shape)\n",
    "\n",
    "rf_classifier = RandomForestClassifier(n_estimators=100, random_state=42)\n",
    "rf_classifier.fit(X_train, y_train)\n",
    "y_pred_rf = rf_classifier.predict(X_test)\n",
    "accuracy = accuracy_score(y_test, y_pred_rf)\n",
    "print(\"task info\",X.iloc[1])\n",
    "print(\"Ensabmle Model  Accuracy: \",np.round(accuracy* 100) ,'%')\n",
    "# gegt 81 ['TaskID', 'TaskFileSize', 'TaskOutputFileSize', 'TaskFileLength', 'CpuTime', 'TotalLength', 'SerivesLevel', 'VmID']"
   ]
  },
  {
   "cell_type": "code",
   "execution_count": 5,
   "id": "888c25d3-8b51-4c80-acc1-b0e43e0691ec",
   "metadata": {},
   "outputs": [
    {
     "data": {
      "text/plain": [
       "['../models/enesemble_vms_scheduling.joblib']"
      ]
     },
     "execution_count": 5,
     "metadata": {},
     "output_type": "execute_result"
    }
   ],
   "source": [
    "from joblib import dump\n",
    "\n",
    "# dump(rf_classifier, '../models/enesemble_vms_scheduling.joblib')\n",
    "# "
   ]
  }
 ],
 "metadata": {
  "kernelspec": {
   "display_name": ".cloudsim",
   "language": "python",
   "name": ".cloudsim"
  },
  "language_info": {
   "codemirror_mode": {
    "name": "ipython",
    "version": 3
   },
   "file_extension": ".py",
   "mimetype": "text/x-python",
   "name": "python",
   "nbconvert_exporter": "python",
   "pygments_lexer": "ipython3",
   "version": "3.10.0"
  }
 },
 "nbformat": 4,
 "nbformat_minor": 5
}
